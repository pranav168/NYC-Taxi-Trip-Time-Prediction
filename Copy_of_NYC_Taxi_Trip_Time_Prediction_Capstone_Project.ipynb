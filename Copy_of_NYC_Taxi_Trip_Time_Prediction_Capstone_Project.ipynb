{
  "nbformat": 4,
  "nbformat_minor": 0,
  "metadata": {
    "kernelspec": {
      "display_name": "Python 3",
      "language": "python",
      "name": "python3"
    },
    "language_info": {
      "codemirror_mode": {
        "name": "ipython",
        "version": 3
      },
      "file_extension": ".py",
      "mimetype": "text/x-python",
      "name": "python",
      "nbconvert_exporter": "python",
      "pygments_lexer": "ipython3",
      "version": "3.6.6"
    },
    "colab": {
      "name": "Copy of NYC Taxi Trip Time Prediction - Capstone Project.ipynb",
      "provenance": [],
      "collapsed_sections": [],
      "include_colab_link": true
    },
    "accelerator": "GPU"
  },
  "cells": [
    {
      "cell_type": "markdown",
      "metadata": {
        "id": "view-in-github",
        "colab_type": "text"
      },
      "source": [
        "<a href=\"https://colab.research.google.com/github/pranav168/NYC-Taxi-Trip-Time-Prediction/blob/main/Copy_of_NYC_Taxi_Trip_Time_Prediction_Capstone_Project.ipynb\" target=\"_parent\"><img src=\"https://colab.research.google.com/assets/colab-badge.svg\" alt=\"Open In Colab\"/></a>"
      ]
    },
    {
      "cell_type": "markdown",
      "metadata": {
        "id": "tOGC-qoyhJeX"
      },
      "source": [
        "# <b><u> Project Title : Taxi trip time Prediction : Predicting total ride duration of taxi trips in New York City</u></b>"
      ]
    },
    {
      "cell_type": "markdown",
      "metadata": {
        "id": "Y06xIdG26kRF"
      },
      "source": [
        "## <b> Problem Description </b>\n",
        "\n",
        "### Your task is to build a model that predicts the total ride duration of taxi trips in New York City. Your primary dataset is one released by the NYC Taxi and Limousine Commission, which includes pickup time, geo-coordinates, number of passengers, and several other variables."
      ]
    },
    {
      "cell_type": "markdown",
      "metadata": {
        "id": "WWeU1f9bwqQq"
      },
      "source": [
        "## <b> Data Description </b>\n",
        "\n",
        "### The dataset is based on the 2016 NYC Yellow Cab trip record data made available in Big Query on Google Cloud Platform. The data was originally published by the NYC Taxi and Limousine Commission (TLC). The data was sampled and cleaned for the purposes of this project. Based on individual trip attributes, you should predict the duration of each trip in the test set.\n",
        "\n",
        "### <b>NYC Taxi Data.csv</b> - the training set (contains 1458644 trip records)\n",
        "\n",
        "\n",
        "### Data fields\n",
        "* #### id - a unique identifier for each trip\n",
        "* #### vendor_id - a code indicating the provider associated with the trip record\n",
        "* #### pickup_datetime - date and time when the meter was engaged\n",
        "* #### dropoff_datetime - date and time when the meter was disengaged\n",
        "* #### passenger_count - the number of passengers in the vehicle (driver entered value)\n",
        "* #### pickup_longitude - the longitude where the meter was engaged\n",
        "* #### pickup_latitude - the latitude where the meter was engaged\n",
        "* #### dropoff_longitude - the longitude where the meter was disengaged\n",
        "* #### dropoff_latitude - the latitude where the meter was disengaged\n",
        "* #### store_and_fwd_flag - This flag indicates whether the trip record was held in vehicle memory before sending to the vendor because the vehicle did not have a connection to the server - Y=store and forward; N=not a store and forward trip\n",
        "* #### trip_duration - duration of the trip in seconds"
      ]
    },
    {
      "cell_type": "code",
      "metadata": {
        "id": "VSRsBL_OjBVn",
        "colab": {
          "base_uri": "https://localhost:8080/"
        },
        "outputId": "ccc451c3-2f15-4608-d12a-daab0501bdf0"
      },
      "source": [
        "from google.colab import drive\n",
        "drive.mount('/content/drive')"
      ],
      "execution_count": 1,
      "outputs": [
        {
          "output_type": "stream",
          "text": [
            "Drive already mounted at /content/drive; to attempt to forcibly remount, call drive.mount(\"/content/drive\", force_remount=True).\n"
          ],
          "name": "stdout"
        }
      ]
    },
    {
      "cell_type": "code",
      "metadata": {
        "id": "LZTd8THYjjXu",
        "colab": {
          "base_uri": "https://localhost:8080/"
        },
        "outputId": "3d1425c6-713e-4cf8-cedc-d1797458007e"
      },
      "source": [
        "#Importing all the required packages and libraries\n",
        "import pandas as pd\n",
        "import matplotlib.pyplot as plt\n",
        "import seaborn as sns\n",
        "import numpy as np\n",
        "import warnings\n",
        "from datetime import datetime\n",
        "!pip install haversine\n",
        "import haversine as hs\n",
        "from sklearn.ensemble import IsolationForest\n",
        "from sklearn.preprocessing import MinMaxScaler\n",
        "warnings.filterwarnings('ignore')\n",
        "pd.set_option('display.max_colwidth', -1)\n",
        "plt.style.use('fivethirtyeight')\n"
      ],
      "execution_count": 15,
      "outputs": [
        {
          "output_type": "stream",
          "text": [
            "Requirement already satisfied: haversine in /usr/local/lib/python3.7/dist-packages (2.4.0)\n"
          ],
          "name": "stdout"
        }
      ]
    },
    {
      "cell_type": "code",
      "metadata": {
        "id": "dByMsuzT8Tnw",
        "colab": {
          "base_uri": "https://localhost:8080/",
          "height": 204
        },
        "outputId": "a3ca82e4-13e4-43cc-8288-ca87ec8c058c"
      },
      "source": [
        "df=pd.read_csv('/content/drive/MyDrive/Copy of NYC Taxi Data.csv') \n",
        "df.head()"
      ],
      "execution_count": 3,
      "outputs": [
        {
          "output_type": "execute_result",
          "data": {
            "text/html": [
              "<div>\n",
              "<style scoped>\n",
              "    .dataframe tbody tr th:only-of-type {\n",
              "        vertical-align: middle;\n",
              "    }\n",
              "\n",
              "    .dataframe tbody tr th {\n",
              "        vertical-align: top;\n",
              "    }\n",
              "\n",
              "    .dataframe thead th {\n",
              "        text-align: right;\n",
              "    }\n",
              "</style>\n",
              "<table border=\"1\" class=\"dataframe\">\n",
              "  <thead>\n",
              "    <tr style=\"text-align: right;\">\n",
              "      <th></th>\n",
              "      <th>id</th>\n",
              "      <th>vendor_id</th>\n",
              "      <th>pickup_datetime</th>\n",
              "      <th>dropoff_datetime</th>\n",
              "      <th>passenger_count</th>\n",
              "      <th>pickup_longitude</th>\n",
              "      <th>pickup_latitude</th>\n",
              "      <th>dropoff_longitude</th>\n",
              "      <th>dropoff_latitude</th>\n",
              "      <th>store_and_fwd_flag</th>\n",
              "      <th>trip_duration</th>\n",
              "    </tr>\n",
              "  </thead>\n",
              "  <tbody>\n",
              "    <tr>\n",
              "      <th>0</th>\n",
              "      <td>id2875421</td>\n",
              "      <td>2</td>\n",
              "      <td>2016-03-14 17:24:55</td>\n",
              "      <td>2016-03-14 17:32:30</td>\n",
              "      <td>1</td>\n",
              "      <td>-73.982155</td>\n",
              "      <td>40.767937</td>\n",
              "      <td>-73.964630</td>\n",
              "      <td>40.765602</td>\n",
              "      <td>N</td>\n",
              "      <td>455</td>\n",
              "    </tr>\n",
              "    <tr>\n",
              "      <th>1</th>\n",
              "      <td>id2377394</td>\n",
              "      <td>1</td>\n",
              "      <td>2016-06-12 00:43:35</td>\n",
              "      <td>2016-06-12 00:54:38</td>\n",
              "      <td>1</td>\n",
              "      <td>-73.980415</td>\n",
              "      <td>40.738564</td>\n",
              "      <td>-73.999481</td>\n",
              "      <td>40.731152</td>\n",
              "      <td>N</td>\n",
              "      <td>663</td>\n",
              "    </tr>\n",
              "    <tr>\n",
              "      <th>2</th>\n",
              "      <td>id3858529</td>\n",
              "      <td>2</td>\n",
              "      <td>2016-01-19 11:35:24</td>\n",
              "      <td>2016-01-19 12:10:48</td>\n",
              "      <td>1</td>\n",
              "      <td>-73.979027</td>\n",
              "      <td>40.763939</td>\n",
              "      <td>-74.005333</td>\n",
              "      <td>40.710087</td>\n",
              "      <td>N</td>\n",
              "      <td>2124</td>\n",
              "    </tr>\n",
              "    <tr>\n",
              "      <th>3</th>\n",
              "      <td>id3504673</td>\n",
              "      <td>2</td>\n",
              "      <td>2016-04-06 19:32:31</td>\n",
              "      <td>2016-04-06 19:39:40</td>\n",
              "      <td>1</td>\n",
              "      <td>-74.010040</td>\n",
              "      <td>40.719971</td>\n",
              "      <td>-74.012268</td>\n",
              "      <td>40.706718</td>\n",
              "      <td>N</td>\n",
              "      <td>429</td>\n",
              "    </tr>\n",
              "    <tr>\n",
              "      <th>4</th>\n",
              "      <td>id2181028</td>\n",
              "      <td>2</td>\n",
              "      <td>2016-03-26 13:30:55</td>\n",
              "      <td>2016-03-26 13:38:10</td>\n",
              "      <td>1</td>\n",
              "      <td>-73.973053</td>\n",
              "      <td>40.793209</td>\n",
              "      <td>-73.972923</td>\n",
              "      <td>40.782520</td>\n",
              "      <td>N</td>\n",
              "      <td>435</td>\n",
              "    </tr>\n",
              "  </tbody>\n",
              "</table>\n",
              "</div>"
            ],
            "text/plain": [
              "          id  vendor_id  ... store_and_fwd_flag trip_duration\n",
              "0  id2875421  2          ...  N                  455         \n",
              "1  id2377394  1          ...  N                  663         \n",
              "2  id3858529  2          ...  N                  2124        \n",
              "3  id3504673  2          ...  N                  429         \n",
              "4  id2181028  2          ...  N                  435         \n",
              "\n",
              "[5 rows x 11 columns]"
            ]
          },
          "metadata": {},
          "execution_count": 3
        }
      ]
    },
    {
      "cell_type": "code",
      "metadata": {
        "colab": {
          "base_uri": "https://localhost:8080/"
        },
        "id": "c5PMi0GASnVr",
        "outputId": "2130dcfb-4eb5-4b59-f2c3-80c051a38de7"
      },
      "source": [
        "df.info()                                                                       #No nulls"
      ],
      "execution_count": 4,
      "outputs": [
        {
          "output_type": "stream",
          "text": [
            "<class 'pandas.core.frame.DataFrame'>\n",
            "RangeIndex: 1458644 entries, 0 to 1458643\n",
            "Data columns (total 11 columns):\n",
            " #   Column              Non-Null Count    Dtype  \n",
            "---  ------              --------------    -----  \n",
            " 0   id                  1458644 non-null  object \n",
            " 1   vendor_id           1458644 non-null  int64  \n",
            " 2   pickup_datetime     1458644 non-null  object \n",
            " 3   dropoff_datetime    1458644 non-null  object \n",
            " 4   passenger_count     1458644 non-null  int64  \n",
            " 5   pickup_longitude    1458644 non-null  float64\n",
            " 6   pickup_latitude     1458644 non-null  float64\n",
            " 7   dropoff_longitude   1458644 non-null  float64\n",
            " 8   dropoff_latitude    1458644 non-null  float64\n",
            " 9   store_and_fwd_flag  1458644 non-null  object \n",
            " 10  trip_duration       1458644 non-null  int64  \n",
            "dtypes: float64(4), int64(3), object(4)\n",
            "memory usage: 122.4+ MB\n"
          ],
          "name": "stdout"
        }
      ]
    },
    {
      "cell_type": "code",
      "metadata": {
        "id": "qvRsVdSZkXmO",
        "colab": {
          "base_uri": "https://localhost:8080/",
          "height": 440
        },
        "outputId": "39e791d8-f02c-4f15-c185-1b1dbe42f433"
      },
      "source": [
        "column_list=['id', 'vendor_id', 'pickup_datetime', 'dropoff_datetime',\n",
        "       'passenger_count', 'pickup_longitude', 'pickup_latitude',\n",
        "       'dropoff_longitude', 'dropoff_latitude', 'store_and_fwd_flag',\n",
        "       'trip_duration']\n",
        "count_dataset=pd.DataFrame()\n",
        "distinct_features=[]                                                                                          #Empty list to know the number of distict features,sum of all these values, and sum of values top 10 comprises\n",
        "for i in column_list:                                                                                               \n",
        "  count_dataset[i]= pd.Series(df[i].value_counts().sort_values(ascending=False).head(10).index)      \n",
        "  count_dataset[f'{i}_count']=pd.Series(df[i].value_counts().sort_values(ascending=False).head(10).values).astype('int')   \n",
        "  distinct_features.append((len(df[i].value_counts().index),df[i].value_counts().sum(),df[i].value_counts().sort_values(ascending=False).head(10).sum())) \n",
        "final_tally=list(zip(column_list,distinct_features))                                                           #Zipping with column_list\n",
        "col_ref={}  \n",
        "for i in column_list:\n",
        "  if i in ['trip_duration']:                                                                    #colur red shows the Dependent Variable('trip_duration')\n",
        "    col_ref[i]='background-color: red'  \n",
        "  else:\n",
        "    col_ref[i]='background-color: blue'                                                                       #colur blue shows the features \n",
        "  temp=f'{i}_count'\n",
        "  col_ref[temp]='background-color: green'                                                                     #colur green shows the count\n",
        "def Nan_as_black(val):\n",
        "  if str(val)=='nan':\n",
        "    color = 'black'\n",
        "    return 'color: %s' % color\n",
        "count_dataset=count_dataset.style.apply(lambda x: pd.DataFrame(col_ref, index=count_dataset.index, columns=count_dataset.columns).fillna(''), axis=None).highlight_null('black').applymap(Nan_as_black)\n",
        "count_dataset"
      ],
      "execution_count": 5,
      "outputs": [
        {
          "output_type": "execute_result",
          "data": {
            "text/html": [
              "<style  type=\"text/css\" >\n",
              "#T_0ceea55e_074d_11ec_b370_0242ac1c0002row0_col0,#T_0ceea55e_074d_11ec_b370_0242ac1c0002row0_col2,#T_0ceea55e_074d_11ec_b370_0242ac1c0002row0_col4,#T_0ceea55e_074d_11ec_b370_0242ac1c0002row0_col6,#T_0ceea55e_074d_11ec_b370_0242ac1c0002row0_col8,#T_0ceea55e_074d_11ec_b370_0242ac1c0002row0_col10,#T_0ceea55e_074d_11ec_b370_0242ac1c0002row0_col12,#T_0ceea55e_074d_11ec_b370_0242ac1c0002row0_col14,#T_0ceea55e_074d_11ec_b370_0242ac1c0002row0_col16,#T_0ceea55e_074d_11ec_b370_0242ac1c0002row0_col18,#T_0ceea55e_074d_11ec_b370_0242ac1c0002row1_col0,#T_0ceea55e_074d_11ec_b370_0242ac1c0002row1_col2,#T_0ceea55e_074d_11ec_b370_0242ac1c0002row1_col4,#T_0ceea55e_074d_11ec_b370_0242ac1c0002row1_col6,#T_0ceea55e_074d_11ec_b370_0242ac1c0002row1_col8,#T_0ceea55e_074d_11ec_b370_0242ac1c0002row1_col10,#T_0ceea55e_074d_11ec_b370_0242ac1c0002row1_col12,#T_0ceea55e_074d_11ec_b370_0242ac1c0002row1_col14,#T_0ceea55e_074d_11ec_b370_0242ac1c0002row1_col16,#T_0ceea55e_074d_11ec_b370_0242ac1c0002row1_col18,#T_0ceea55e_074d_11ec_b370_0242ac1c0002row2_col0,#T_0ceea55e_074d_11ec_b370_0242ac1c0002row2_col4,#T_0ceea55e_074d_11ec_b370_0242ac1c0002row2_col6,#T_0ceea55e_074d_11ec_b370_0242ac1c0002row2_col8,#T_0ceea55e_074d_11ec_b370_0242ac1c0002row2_col10,#T_0ceea55e_074d_11ec_b370_0242ac1c0002row2_col12,#T_0ceea55e_074d_11ec_b370_0242ac1c0002row2_col14,#T_0ceea55e_074d_11ec_b370_0242ac1c0002row2_col16,#T_0ceea55e_074d_11ec_b370_0242ac1c0002row3_col0,#T_0ceea55e_074d_11ec_b370_0242ac1c0002row3_col4,#T_0ceea55e_074d_11ec_b370_0242ac1c0002row3_col6,#T_0ceea55e_074d_11ec_b370_0242ac1c0002row3_col8,#T_0ceea55e_074d_11ec_b370_0242ac1c0002row3_col10,#T_0ceea55e_074d_11ec_b370_0242ac1c0002row3_col12,#T_0ceea55e_074d_11ec_b370_0242ac1c0002row3_col14,#T_0ceea55e_074d_11ec_b370_0242ac1c0002row3_col16,#T_0ceea55e_074d_11ec_b370_0242ac1c0002row4_col0,#T_0ceea55e_074d_11ec_b370_0242ac1c0002row4_col4,#T_0ceea55e_074d_11ec_b370_0242ac1c0002row4_col6,#T_0ceea55e_074d_11ec_b370_0242ac1c0002row4_col8,#T_0ceea55e_074d_11ec_b370_0242ac1c0002row4_col10,#T_0ceea55e_074d_11ec_b370_0242ac1c0002row4_col12,#T_0ceea55e_074d_11ec_b370_0242ac1c0002row4_col14,#T_0ceea55e_074d_11ec_b370_0242ac1c0002row4_col16,#T_0ceea55e_074d_11ec_b370_0242ac1c0002row5_col0,#T_0ceea55e_074d_11ec_b370_0242ac1c0002row5_col4,#T_0ceea55e_074d_11ec_b370_0242ac1c0002row5_col6,#T_0ceea55e_074d_11ec_b370_0242ac1c0002row5_col8,#T_0ceea55e_074d_11ec_b370_0242ac1c0002row5_col10,#T_0ceea55e_074d_11ec_b370_0242ac1c0002row5_col12,#T_0ceea55e_074d_11ec_b370_0242ac1c0002row5_col14,#T_0ceea55e_074d_11ec_b370_0242ac1c0002row5_col16,#T_0ceea55e_074d_11ec_b370_0242ac1c0002row6_col0,#T_0ceea55e_074d_11ec_b370_0242ac1c0002row6_col4,#T_0ceea55e_074d_11ec_b370_0242ac1c0002row6_col6,#T_0ceea55e_074d_11ec_b370_0242ac1c0002row6_col8,#T_0ceea55e_074d_11ec_b370_0242ac1c0002row6_col10,#T_0ceea55e_074d_11ec_b370_0242ac1c0002row6_col12,#T_0ceea55e_074d_11ec_b370_0242ac1c0002row6_col14,#T_0ceea55e_074d_11ec_b370_0242ac1c0002row6_col16,#T_0ceea55e_074d_11ec_b370_0242ac1c0002row7_col0,#T_0ceea55e_074d_11ec_b370_0242ac1c0002row7_col4,#T_0ceea55e_074d_11ec_b370_0242ac1c0002row7_col6,#T_0ceea55e_074d_11ec_b370_0242ac1c0002row7_col8,#T_0ceea55e_074d_11ec_b370_0242ac1c0002row7_col10,#T_0ceea55e_074d_11ec_b370_0242ac1c0002row7_col12,#T_0ceea55e_074d_11ec_b370_0242ac1c0002row7_col14,#T_0ceea55e_074d_11ec_b370_0242ac1c0002row7_col16,#T_0ceea55e_074d_11ec_b370_0242ac1c0002row8_col0,#T_0ceea55e_074d_11ec_b370_0242ac1c0002row8_col4,#T_0ceea55e_074d_11ec_b370_0242ac1c0002row8_col6,#T_0ceea55e_074d_11ec_b370_0242ac1c0002row8_col8,#T_0ceea55e_074d_11ec_b370_0242ac1c0002row8_col10,#T_0ceea55e_074d_11ec_b370_0242ac1c0002row8_col12,#T_0ceea55e_074d_11ec_b370_0242ac1c0002row8_col14,#T_0ceea55e_074d_11ec_b370_0242ac1c0002row8_col16,#T_0ceea55e_074d_11ec_b370_0242ac1c0002row9_col0,#T_0ceea55e_074d_11ec_b370_0242ac1c0002row9_col4,#T_0ceea55e_074d_11ec_b370_0242ac1c0002row9_col6,#T_0ceea55e_074d_11ec_b370_0242ac1c0002row9_col8,#T_0ceea55e_074d_11ec_b370_0242ac1c0002row9_col10,#T_0ceea55e_074d_11ec_b370_0242ac1c0002row9_col12,#T_0ceea55e_074d_11ec_b370_0242ac1c0002row9_col14,#T_0ceea55e_074d_11ec_b370_0242ac1c0002row9_col16{\n",
              "            background-color:  blue;\n",
              "        }#T_0ceea55e_074d_11ec_b370_0242ac1c0002row0_col1,#T_0ceea55e_074d_11ec_b370_0242ac1c0002row0_col3,#T_0ceea55e_074d_11ec_b370_0242ac1c0002row0_col5,#T_0ceea55e_074d_11ec_b370_0242ac1c0002row0_col7,#T_0ceea55e_074d_11ec_b370_0242ac1c0002row0_col9,#T_0ceea55e_074d_11ec_b370_0242ac1c0002row0_col11,#T_0ceea55e_074d_11ec_b370_0242ac1c0002row0_col13,#T_0ceea55e_074d_11ec_b370_0242ac1c0002row0_col15,#T_0ceea55e_074d_11ec_b370_0242ac1c0002row0_col17,#T_0ceea55e_074d_11ec_b370_0242ac1c0002row0_col19,#T_0ceea55e_074d_11ec_b370_0242ac1c0002row0_col21,#T_0ceea55e_074d_11ec_b370_0242ac1c0002row1_col1,#T_0ceea55e_074d_11ec_b370_0242ac1c0002row1_col3,#T_0ceea55e_074d_11ec_b370_0242ac1c0002row1_col5,#T_0ceea55e_074d_11ec_b370_0242ac1c0002row1_col7,#T_0ceea55e_074d_11ec_b370_0242ac1c0002row1_col9,#T_0ceea55e_074d_11ec_b370_0242ac1c0002row1_col11,#T_0ceea55e_074d_11ec_b370_0242ac1c0002row1_col13,#T_0ceea55e_074d_11ec_b370_0242ac1c0002row1_col15,#T_0ceea55e_074d_11ec_b370_0242ac1c0002row1_col17,#T_0ceea55e_074d_11ec_b370_0242ac1c0002row1_col19,#T_0ceea55e_074d_11ec_b370_0242ac1c0002row1_col21,#T_0ceea55e_074d_11ec_b370_0242ac1c0002row2_col1,#T_0ceea55e_074d_11ec_b370_0242ac1c0002row2_col5,#T_0ceea55e_074d_11ec_b370_0242ac1c0002row2_col7,#T_0ceea55e_074d_11ec_b370_0242ac1c0002row2_col9,#T_0ceea55e_074d_11ec_b370_0242ac1c0002row2_col11,#T_0ceea55e_074d_11ec_b370_0242ac1c0002row2_col13,#T_0ceea55e_074d_11ec_b370_0242ac1c0002row2_col15,#T_0ceea55e_074d_11ec_b370_0242ac1c0002row2_col17,#T_0ceea55e_074d_11ec_b370_0242ac1c0002row2_col21,#T_0ceea55e_074d_11ec_b370_0242ac1c0002row3_col1,#T_0ceea55e_074d_11ec_b370_0242ac1c0002row3_col5,#T_0ceea55e_074d_11ec_b370_0242ac1c0002row3_col7,#T_0ceea55e_074d_11ec_b370_0242ac1c0002row3_col9,#T_0ceea55e_074d_11ec_b370_0242ac1c0002row3_col11,#T_0ceea55e_074d_11ec_b370_0242ac1c0002row3_col13,#T_0ceea55e_074d_11ec_b370_0242ac1c0002row3_col15,#T_0ceea55e_074d_11ec_b370_0242ac1c0002row3_col17,#T_0ceea55e_074d_11ec_b370_0242ac1c0002row3_col21,#T_0ceea55e_074d_11ec_b370_0242ac1c0002row4_col1,#T_0ceea55e_074d_11ec_b370_0242ac1c0002row4_col5,#T_0ceea55e_074d_11ec_b370_0242ac1c0002row4_col7,#T_0ceea55e_074d_11ec_b370_0242ac1c0002row4_col9,#T_0ceea55e_074d_11ec_b370_0242ac1c0002row4_col11,#T_0ceea55e_074d_11ec_b370_0242ac1c0002row4_col13,#T_0ceea55e_074d_11ec_b370_0242ac1c0002row4_col15,#T_0ceea55e_074d_11ec_b370_0242ac1c0002row4_col17,#T_0ceea55e_074d_11ec_b370_0242ac1c0002row4_col21,#T_0ceea55e_074d_11ec_b370_0242ac1c0002row5_col1,#T_0ceea55e_074d_11ec_b370_0242ac1c0002row5_col5,#T_0ceea55e_074d_11ec_b370_0242ac1c0002row5_col7,#T_0ceea55e_074d_11ec_b370_0242ac1c0002row5_col9,#T_0ceea55e_074d_11ec_b370_0242ac1c0002row5_col11,#T_0ceea55e_074d_11ec_b370_0242ac1c0002row5_col13,#T_0ceea55e_074d_11ec_b370_0242ac1c0002row5_col15,#T_0ceea55e_074d_11ec_b370_0242ac1c0002row5_col17,#T_0ceea55e_074d_11ec_b370_0242ac1c0002row5_col21,#T_0ceea55e_074d_11ec_b370_0242ac1c0002row6_col1,#T_0ceea55e_074d_11ec_b370_0242ac1c0002row6_col5,#T_0ceea55e_074d_11ec_b370_0242ac1c0002row6_col7,#T_0ceea55e_074d_11ec_b370_0242ac1c0002row6_col9,#T_0ceea55e_074d_11ec_b370_0242ac1c0002row6_col11,#T_0ceea55e_074d_11ec_b370_0242ac1c0002row6_col13,#T_0ceea55e_074d_11ec_b370_0242ac1c0002row6_col15,#T_0ceea55e_074d_11ec_b370_0242ac1c0002row6_col17,#T_0ceea55e_074d_11ec_b370_0242ac1c0002row6_col21,#T_0ceea55e_074d_11ec_b370_0242ac1c0002row7_col1,#T_0ceea55e_074d_11ec_b370_0242ac1c0002row7_col5,#T_0ceea55e_074d_11ec_b370_0242ac1c0002row7_col7,#T_0ceea55e_074d_11ec_b370_0242ac1c0002row7_col9,#T_0ceea55e_074d_11ec_b370_0242ac1c0002row7_col11,#T_0ceea55e_074d_11ec_b370_0242ac1c0002row7_col13,#T_0ceea55e_074d_11ec_b370_0242ac1c0002row7_col15,#T_0ceea55e_074d_11ec_b370_0242ac1c0002row7_col17,#T_0ceea55e_074d_11ec_b370_0242ac1c0002row7_col21,#T_0ceea55e_074d_11ec_b370_0242ac1c0002row8_col1,#T_0ceea55e_074d_11ec_b370_0242ac1c0002row8_col5,#T_0ceea55e_074d_11ec_b370_0242ac1c0002row8_col7,#T_0ceea55e_074d_11ec_b370_0242ac1c0002row8_col9,#T_0ceea55e_074d_11ec_b370_0242ac1c0002row8_col11,#T_0ceea55e_074d_11ec_b370_0242ac1c0002row8_col13,#T_0ceea55e_074d_11ec_b370_0242ac1c0002row8_col15,#T_0ceea55e_074d_11ec_b370_0242ac1c0002row8_col17,#T_0ceea55e_074d_11ec_b370_0242ac1c0002row8_col21,#T_0ceea55e_074d_11ec_b370_0242ac1c0002row9_col1,#T_0ceea55e_074d_11ec_b370_0242ac1c0002row9_col5,#T_0ceea55e_074d_11ec_b370_0242ac1c0002row9_col7,#T_0ceea55e_074d_11ec_b370_0242ac1c0002row9_col9,#T_0ceea55e_074d_11ec_b370_0242ac1c0002row9_col11,#T_0ceea55e_074d_11ec_b370_0242ac1c0002row9_col13,#T_0ceea55e_074d_11ec_b370_0242ac1c0002row9_col15,#T_0ceea55e_074d_11ec_b370_0242ac1c0002row9_col17,#T_0ceea55e_074d_11ec_b370_0242ac1c0002row9_col21{\n",
              "            background-color:  green;\n",
              "        }#T_0ceea55e_074d_11ec_b370_0242ac1c0002row0_col20,#T_0ceea55e_074d_11ec_b370_0242ac1c0002row1_col20,#T_0ceea55e_074d_11ec_b370_0242ac1c0002row2_col20,#T_0ceea55e_074d_11ec_b370_0242ac1c0002row3_col20,#T_0ceea55e_074d_11ec_b370_0242ac1c0002row4_col20,#T_0ceea55e_074d_11ec_b370_0242ac1c0002row5_col20,#T_0ceea55e_074d_11ec_b370_0242ac1c0002row6_col20,#T_0ceea55e_074d_11ec_b370_0242ac1c0002row7_col20,#T_0ceea55e_074d_11ec_b370_0242ac1c0002row8_col20,#T_0ceea55e_074d_11ec_b370_0242ac1c0002row9_col20{\n",
              "            background-color:  red;\n",
              "        }#T_0ceea55e_074d_11ec_b370_0242ac1c0002row2_col2,#T_0ceea55e_074d_11ec_b370_0242ac1c0002row2_col18,#T_0ceea55e_074d_11ec_b370_0242ac1c0002row3_col2,#T_0ceea55e_074d_11ec_b370_0242ac1c0002row3_col18,#T_0ceea55e_074d_11ec_b370_0242ac1c0002row4_col2,#T_0ceea55e_074d_11ec_b370_0242ac1c0002row4_col18,#T_0ceea55e_074d_11ec_b370_0242ac1c0002row5_col2,#T_0ceea55e_074d_11ec_b370_0242ac1c0002row5_col18,#T_0ceea55e_074d_11ec_b370_0242ac1c0002row6_col2,#T_0ceea55e_074d_11ec_b370_0242ac1c0002row6_col18,#T_0ceea55e_074d_11ec_b370_0242ac1c0002row7_col2,#T_0ceea55e_074d_11ec_b370_0242ac1c0002row7_col18,#T_0ceea55e_074d_11ec_b370_0242ac1c0002row8_col2,#T_0ceea55e_074d_11ec_b370_0242ac1c0002row8_col18,#T_0ceea55e_074d_11ec_b370_0242ac1c0002row9_col2,#T_0ceea55e_074d_11ec_b370_0242ac1c0002row9_col18{\n",
              "            background-color:  blue;\n",
              "            background-color:  black;\n",
              "            color:  black;\n",
              "        }#T_0ceea55e_074d_11ec_b370_0242ac1c0002row2_col3,#T_0ceea55e_074d_11ec_b370_0242ac1c0002row2_col19,#T_0ceea55e_074d_11ec_b370_0242ac1c0002row3_col3,#T_0ceea55e_074d_11ec_b370_0242ac1c0002row3_col19,#T_0ceea55e_074d_11ec_b370_0242ac1c0002row4_col3,#T_0ceea55e_074d_11ec_b370_0242ac1c0002row4_col19,#T_0ceea55e_074d_11ec_b370_0242ac1c0002row5_col3,#T_0ceea55e_074d_11ec_b370_0242ac1c0002row5_col19,#T_0ceea55e_074d_11ec_b370_0242ac1c0002row6_col3,#T_0ceea55e_074d_11ec_b370_0242ac1c0002row6_col19,#T_0ceea55e_074d_11ec_b370_0242ac1c0002row7_col3,#T_0ceea55e_074d_11ec_b370_0242ac1c0002row7_col19,#T_0ceea55e_074d_11ec_b370_0242ac1c0002row8_col3,#T_0ceea55e_074d_11ec_b370_0242ac1c0002row8_col19,#T_0ceea55e_074d_11ec_b370_0242ac1c0002row9_col3,#T_0ceea55e_074d_11ec_b370_0242ac1c0002row9_col19{\n",
              "            background-color:  green;\n",
              "            background-color:  black;\n",
              "            color:  black;\n",
              "        }</style><table id=\"T_0ceea55e_074d_11ec_b370_0242ac1c0002\" ><thead>    <tr>        <th class=\"blank level0\" ></th>        <th class=\"col_heading level0 col0\" >id</th>        <th class=\"col_heading level0 col1\" >id_count</th>        <th class=\"col_heading level0 col2\" >vendor_id</th>        <th class=\"col_heading level0 col3\" >vendor_id_count</th>        <th class=\"col_heading level0 col4\" >pickup_datetime</th>        <th class=\"col_heading level0 col5\" >pickup_datetime_count</th>        <th class=\"col_heading level0 col6\" >dropoff_datetime</th>        <th class=\"col_heading level0 col7\" >dropoff_datetime_count</th>        <th class=\"col_heading level0 col8\" >passenger_count</th>        <th class=\"col_heading level0 col9\" >passenger_count_count</th>        <th class=\"col_heading level0 col10\" >pickup_longitude</th>        <th class=\"col_heading level0 col11\" >pickup_longitude_count</th>        <th class=\"col_heading level0 col12\" >pickup_latitude</th>        <th class=\"col_heading level0 col13\" >pickup_latitude_count</th>        <th class=\"col_heading level0 col14\" >dropoff_longitude</th>        <th class=\"col_heading level0 col15\" >dropoff_longitude_count</th>        <th class=\"col_heading level0 col16\" >dropoff_latitude</th>        <th class=\"col_heading level0 col17\" >dropoff_latitude_count</th>        <th class=\"col_heading level0 col18\" >store_and_fwd_flag</th>        <th class=\"col_heading level0 col19\" >store_and_fwd_flag_count</th>        <th class=\"col_heading level0 col20\" >trip_duration</th>        <th class=\"col_heading level0 col21\" >trip_duration_count</th>    </tr></thead><tbody>\n",
              "                <tr>\n",
              "                        <th id=\"T_0ceea55e_074d_11ec_b370_0242ac1c0002level0_row0\" class=\"row_heading level0 row0\" >0</th>\n",
              "                        <td id=\"T_0ceea55e_074d_11ec_b370_0242ac1c0002row0_col0\" class=\"data row0 col0\" >id3487387</td>\n",
              "                        <td id=\"T_0ceea55e_074d_11ec_b370_0242ac1c0002row0_col1\" class=\"data row0 col1\" >1</td>\n",
              "                        <td id=\"T_0ceea55e_074d_11ec_b370_0242ac1c0002row0_col2\" class=\"data row0 col2\" >2.000000</td>\n",
              "                        <td id=\"T_0ceea55e_074d_11ec_b370_0242ac1c0002row0_col3\" class=\"data row0 col3\" >780302.000000</td>\n",
              "                        <td id=\"T_0ceea55e_074d_11ec_b370_0242ac1c0002row0_col4\" class=\"data row0 col4\" >2016-01-12 18:48:44</td>\n",
              "                        <td id=\"T_0ceea55e_074d_11ec_b370_0242ac1c0002row0_col5\" class=\"data row0 col5\" >5</td>\n",
              "                        <td id=\"T_0ceea55e_074d_11ec_b370_0242ac1c0002row0_col6\" class=\"data row0 col6\" >2016-02-19 19:25:04</td>\n",
              "                        <td id=\"T_0ceea55e_074d_11ec_b370_0242ac1c0002row0_col7\" class=\"data row0 col7\" >5</td>\n",
              "                        <td id=\"T_0ceea55e_074d_11ec_b370_0242ac1c0002row0_col8\" class=\"data row0 col8\" >1</td>\n",
              "                        <td id=\"T_0ceea55e_074d_11ec_b370_0242ac1c0002row0_col9\" class=\"data row0 col9\" >1033540</td>\n",
              "                        <td id=\"T_0ceea55e_074d_11ec_b370_0242ac1c0002row0_col10\" class=\"data row0 col10\" >-73.982201</td>\n",
              "                        <td id=\"T_0ceea55e_074d_11ec_b370_0242ac1c0002row0_col11\" class=\"data row0 col11\" >633</td>\n",
              "                        <td id=\"T_0ceea55e_074d_11ec_b370_0242ac1c0002row0_col12\" class=\"data row0 col12\" >40.774101</td>\n",
              "                        <td id=\"T_0ceea55e_074d_11ec_b370_0242ac1c0002row0_col13\" class=\"data row0 col13\" >414</td>\n",
              "                        <td id=\"T_0ceea55e_074d_11ec_b370_0242ac1c0002row0_col14\" class=\"data row0 col14\" >-73.982330</td>\n",
              "                        <td id=\"T_0ceea55e_074d_11ec_b370_0242ac1c0002row0_col15\" class=\"data row0 col15\" >443</td>\n",
              "                        <td id=\"T_0ceea55e_074d_11ec_b370_0242ac1c0002row0_col16\" class=\"data row0 col16\" >40.774311</td>\n",
              "                        <td id=\"T_0ceea55e_074d_11ec_b370_0242ac1c0002row0_col17\" class=\"data row0 col17\" >269</td>\n",
              "                        <td id=\"T_0ceea55e_074d_11ec_b370_0242ac1c0002row0_col18\" class=\"data row0 col18\" >N</td>\n",
              "                        <td id=\"T_0ceea55e_074d_11ec_b370_0242ac1c0002row0_col19\" class=\"data row0 col19\" >1450599.000000</td>\n",
              "                        <td id=\"T_0ceea55e_074d_11ec_b370_0242ac1c0002row0_col20\" class=\"data row0 col20\" >368</td>\n",
              "                        <td id=\"T_0ceea55e_074d_11ec_b370_0242ac1c0002row0_col21\" class=\"data row0 col21\" >1624</td>\n",
              "            </tr>\n",
              "            <tr>\n",
              "                        <th id=\"T_0ceea55e_074d_11ec_b370_0242ac1c0002level0_row1\" class=\"row_heading level0 row1\" >1</th>\n",
              "                        <td id=\"T_0ceea55e_074d_11ec_b370_0242ac1c0002row1_col0\" class=\"data row1 col0\" >id2165547</td>\n",
              "                        <td id=\"T_0ceea55e_074d_11ec_b370_0242ac1c0002row1_col1\" class=\"data row1 col1\" >1</td>\n",
              "                        <td id=\"T_0ceea55e_074d_11ec_b370_0242ac1c0002row1_col2\" class=\"data row1 col2\" >1.000000</td>\n",
              "                        <td id=\"T_0ceea55e_074d_11ec_b370_0242ac1c0002row1_col3\" class=\"data row1 col3\" >678342.000000</td>\n",
              "                        <td id=\"T_0ceea55e_074d_11ec_b370_0242ac1c0002row1_col4\" class=\"data row1 col4\" >2016-04-05 18:55:21</td>\n",
              "                        <td id=\"T_0ceea55e_074d_11ec_b370_0242ac1c0002row1_col5\" class=\"data row1 col5\" >5</td>\n",
              "                        <td id=\"T_0ceea55e_074d_11ec_b370_0242ac1c0002row1_col6\" class=\"data row1 col6\" >2016-05-16 19:40:28</td>\n",
              "                        <td id=\"T_0ceea55e_074d_11ec_b370_0242ac1c0002row1_col7\" class=\"data row1 col7\" >5</td>\n",
              "                        <td id=\"T_0ceea55e_074d_11ec_b370_0242ac1c0002row1_col8\" class=\"data row1 col8\" >2</td>\n",
              "                        <td id=\"T_0ceea55e_074d_11ec_b370_0242ac1c0002row1_col9\" class=\"data row1 col9\" >210318</td>\n",
              "                        <td id=\"T_0ceea55e_074d_11ec_b370_0242ac1c0002row1_col10\" class=\"data row1 col10\" >-73.982140</td>\n",
              "                        <td id=\"T_0ceea55e_074d_11ec_b370_0242ac1c0002row1_col11\" class=\"data row1 col11\" >607</td>\n",
              "                        <td id=\"T_0ceea55e_074d_11ec_b370_0242ac1c0002row1_col12\" class=\"data row1 col12\" >40.774090</td>\n",
              "                        <td id=\"T_0ceea55e_074d_11ec_b370_0242ac1c0002row1_col13\" class=\"data row1 col13\" >411</td>\n",
              "                        <td id=\"T_0ceea55e_074d_11ec_b370_0242ac1c0002row1_col14\" class=\"data row1 col14\" >-73.982094</td>\n",
              "                        <td id=\"T_0ceea55e_074d_11ec_b370_0242ac1c0002row1_col15\" class=\"data row1 col15\" >433</td>\n",
              "                        <td id=\"T_0ceea55e_074d_11ec_b370_0242ac1c0002row1_col16\" class=\"data row1 col16\" >40.774330</td>\n",
              "                        <td id=\"T_0ceea55e_074d_11ec_b370_0242ac1c0002row1_col17\" class=\"data row1 col17\" >263</td>\n",
              "                        <td id=\"T_0ceea55e_074d_11ec_b370_0242ac1c0002row1_col18\" class=\"data row1 col18\" >Y</td>\n",
              "                        <td id=\"T_0ceea55e_074d_11ec_b370_0242ac1c0002row1_col19\" class=\"data row1 col19\" >8045.000000</td>\n",
              "                        <td id=\"T_0ceea55e_074d_11ec_b370_0242ac1c0002row1_col20\" class=\"data row1 col20\" >408</td>\n",
              "                        <td id=\"T_0ceea55e_074d_11ec_b370_0242ac1c0002row1_col21\" class=\"data row1 col21\" >1584</td>\n",
              "            </tr>\n",
              "            <tr>\n",
              "                        <th id=\"T_0ceea55e_074d_11ec_b370_0242ac1c0002level0_row2\" class=\"row_heading level0 row2\" >2</th>\n",
              "                        <td id=\"T_0ceea55e_074d_11ec_b370_0242ac1c0002row2_col0\" class=\"data row2 col0\" >id1587081</td>\n",
              "                        <td id=\"T_0ceea55e_074d_11ec_b370_0242ac1c0002row2_col1\" class=\"data row2 col1\" >1</td>\n",
              "                        <td id=\"T_0ceea55e_074d_11ec_b370_0242ac1c0002row2_col2\" class=\"data row2 col2\" >nan</td>\n",
              "                        <td id=\"T_0ceea55e_074d_11ec_b370_0242ac1c0002row2_col3\" class=\"data row2 col3\" >nan</td>\n",
              "                        <td id=\"T_0ceea55e_074d_11ec_b370_0242ac1c0002row2_col4\" class=\"data row2 col4\" >2016-06-10 23:17:17</td>\n",
              "                        <td id=\"T_0ceea55e_074d_11ec_b370_0242ac1c0002row2_col5\" class=\"data row2 col5\" >5</td>\n",
              "                        <td id=\"T_0ceea55e_074d_11ec_b370_0242ac1c0002row2_col6\" class=\"data row2 col6\" >2016-01-08 13:00:41</td>\n",
              "                        <td id=\"T_0ceea55e_074d_11ec_b370_0242ac1c0002row2_col7\" class=\"data row2 col7\" >4</td>\n",
              "                        <td id=\"T_0ceea55e_074d_11ec_b370_0242ac1c0002row2_col8\" class=\"data row2 col8\" >5</td>\n",
              "                        <td id=\"T_0ceea55e_074d_11ec_b370_0242ac1c0002row2_col9\" class=\"data row2 col9\" >78088</td>\n",
              "                        <td id=\"T_0ceea55e_074d_11ec_b370_0242ac1c0002row2_col10\" class=\"data row2 col10\" >-73.982101</td>\n",
              "                        <td id=\"T_0ceea55e_074d_11ec_b370_0242ac1c0002row2_col11\" class=\"data row2 col11\" >587</td>\n",
              "                        <td id=\"T_0ceea55e_074d_11ec_b370_0242ac1c0002row2_col12\" class=\"data row2 col12\" >40.774120</td>\n",
              "                        <td id=\"T_0ceea55e_074d_11ec_b370_0242ac1c0002row2_col13\" class=\"data row2 col13\" >410</td>\n",
              "                        <td id=\"T_0ceea55e_074d_11ec_b370_0242ac1c0002row2_col14\" class=\"data row2 col14\" >-73.982246</td>\n",
              "                        <td id=\"T_0ceea55e_074d_11ec_b370_0242ac1c0002row2_col15\" class=\"data row2 col15\" >430</td>\n",
              "                        <td id=\"T_0ceea55e_074d_11ec_b370_0242ac1c0002row2_col16\" class=\"data row2 col16\" >40.750149</td>\n",
              "                        <td id=\"T_0ceea55e_074d_11ec_b370_0242ac1c0002row2_col17\" class=\"data row2 col17\" >259</td>\n",
              "                        <td id=\"T_0ceea55e_074d_11ec_b370_0242ac1c0002row2_col18\" class=\"data row2 col18\" >nan</td>\n",
              "                        <td id=\"T_0ceea55e_074d_11ec_b370_0242ac1c0002row2_col19\" class=\"data row2 col19\" >nan</td>\n",
              "                        <td id=\"T_0ceea55e_074d_11ec_b370_0242ac1c0002row2_col20\" class=\"data row2 col20\" >348</td>\n",
              "                        <td id=\"T_0ceea55e_074d_11ec_b370_0242ac1c0002row2_col21\" class=\"data row2 col21\" >1582</td>\n",
              "            </tr>\n",
              "            <tr>\n",
              "                        <th id=\"T_0ceea55e_074d_11ec_b370_0242ac1c0002level0_row3\" class=\"row_heading level0 row3\" >3</th>\n",
              "                        <td id=\"T_0ceea55e_074d_11ec_b370_0242ac1c0002row3_col0\" class=\"data row3 col0\" >id0385856</td>\n",
              "                        <td id=\"T_0ceea55e_074d_11ec_b370_0242ac1c0002row3_col1\" class=\"data row3 col1\" >1</td>\n",
              "                        <td id=\"T_0ceea55e_074d_11ec_b370_0242ac1c0002row3_col2\" class=\"data row3 col2\" >nan</td>\n",
              "                        <td id=\"T_0ceea55e_074d_11ec_b370_0242ac1c0002row3_col3\" class=\"data row3 col3\" >nan</td>\n",
              "                        <td id=\"T_0ceea55e_074d_11ec_b370_0242ac1c0002row3_col4\" class=\"data row3 col4\" >2016-02-09 21:03:38</td>\n",
              "                        <td id=\"T_0ceea55e_074d_11ec_b370_0242ac1c0002row3_col5\" class=\"data row3 col5\" >5</td>\n",
              "                        <td id=\"T_0ceea55e_074d_11ec_b370_0242ac1c0002row3_col6\" class=\"data row3 col6\" >2016-04-10 20:01:29</td>\n",
              "                        <td id=\"T_0ceea55e_074d_11ec_b370_0242ac1c0002row3_col7\" class=\"data row3 col7\" >4</td>\n",
              "                        <td id=\"T_0ceea55e_074d_11ec_b370_0242ac1c0002row3_col8\" class=\"data row3 col8\" >3</td>\n",
              "                        <td id=\"T_0ceea55e_074d_11ec_b370_0242ac1c0002row3_col9\" class=\"data row3 col9\" >59896</td>\n",
              "                        <td id=\"T_0ceea55e_074d_11ec_b370_0242ac1c0002row3_col10\" class=\"data row3 col10\" >-73.982117</td>\n",
              "                        <td id=\"T_0ceea55e_074d_11ec_b370_0242ac1c0002row3_col11\" class=\"data row3 col11\" >585</td>\n",
              "                        <td id=\"T_0ceea55e_074d_11ec_b370_0242ac1c0002row3_col12\" class=\"data row3 col12\" >40.774109</td>\n",
              "                        <td id=\"T_0ceea55e_074d_11ec_b370_0242ac1c0002row3_col13\" class=\"data row3 col13\" >392</td>\n",
              "                        <td id=\"T_0ceea55e_074d_11ec_b370_0242ac1c0002row3_col14\" class=\"data row3 col14\" >-73.982117</td>\n",
              "                        <td id=\"T_0ceea55e_074d_11ec_b370_0242ac1c0002row3_col15\" class=\"data row3 col15\" >427</td>\n",
              "                        <td id=\"T_0ceea55e_074d_11ec_b370_0242ac1c0002row3_col16\" class=\"data row3 col16\" >40.750118</td>\n",
              "                        <td id=\"T_0ceea55e_074d_11ec_b370_0242ac1c0002row3_col17\" class=\"data row3 col17\" >253</td>\n",
              "                        <td id=\"T_0ceea55e_074d_11ec_b370_0242ac1c0002row3_col18\" class=\"data row3 col18\" >nan</td>\n",
              "                        <td id=\"T_0ceea55e_074d_11ec_b370_0242ac1c0002row3_col19\" class=\"data row3 col19\" >nan</td>\n",
              "                        <td id=\"T_0ceea55e_074d_11ec_b370_0242ac1c0002row3_col20\" class=\"data row3 col20\" >367</td>\n",
              "                        <td id=\"T_0ceea55e_074d_11ec_b370_0242ac1c0002row3_col21\" class=\"data row3 col21\" >1581</td>\n",
              "            </tr>\n",
              "            <tr>\n",
              "                        <th id=\"T_0ceea55e_074d_11ec_b370_0242ac1c0002level0_row4\" class=\"row_heading level0 row4\" >4</th>\n",
              "                        <td id=\"T_0ceea55e_074d_11ec_b370_0242ac1c0002row4_col0\" class=\"data row4 col0\" >id2046043</td>\n",
              "                        <td id=\"T_0ceea55e_074d_11ec_b370_0242ac1c0002row4_col1\" class=\"data row4 col1\" >1</td>\n",
              "                        <td id=\"T_0ceea55e_074d_11ec_b370_0242ac1c0002row4_col2\" class=\"data row4 col2\" >nan</td>\n",
              "                        <td id=\"T_0ceea55e_074d_11ec_b370_0242ac1c0002row4_col3\" class=\"data row4 col3\" >nan</td>\n",
              "                        <td id=\"T_0ceea55e_074d_11ec_b370_0242ac1c0002row4_col4\" class=\"data row4 col4\" >2016-03-04 08:07:34</td>\n",
              "                        <td id=\"T_0ceea55e_074d_11ec_b370_0242ac1c0002row4_col5\" class=\"data row4 col5\" >5</td>\n",
              "                        <td id=\"T_0ceea55e_074d_11ec_b370_0242ac1c0002row4_col6\" class=\"data row4 col6\" >2016-01-08 12:43:38</td>\n",
              "                        <td id=\"T_0ceea55e_074d_11ec_b370_0242ac1c0002row4_col7\" class=\"data row4 col7\" >4</td>\n",
              "                        <td id=\"T_0ceea55e_074d_11ec_b370_0242ac1c0002row4_col8\" class=\"data row4 col8\" >6</td>\n",
              "                        <td id=\"T_0ceea55e_074d_11ec_b370_0242ac1c0002row4_col9\" class=\"data row4 col9\" >48333</td>\n",
              "                        <td id=\"T_0ceea55e_074d_11ec_b370_0242ac1c0002row4_col10\" class=\"data row4 col10\" >-73.982224</td>\n",
              "                        <td id=\"T_0ceea55e_074d_11ec_b370_0242ac1c0002row4_col11\" class=\"data row4 col11\" >584</td>\n",
              "                        <td id=\"T_0ceea55e_074d_11ec_b370_0242ac1c0002row4_col12\" class=\"data row4 col12\" >40.774078</td>\n",
              "                        <td id=\"T_0ceea55e_074d_11ec_b370_0242ac1c0002row4_col13\" class=\"data row4 col13\" >390</td>\n",
              "                        <td id=\"T_0ceea55e_074d_11ec_b370_0242ac1c0002row4_col14\" class=\"data row4 col14\" >-73.991379</td>\n",
              "                        <td id=\"T_0ceea55e_074d_11ec_b370_0242ac1c0002row4_col15\" class=\"data row4 col15\" >420</td>\n",
              "                        <td id=\"T_0ceea55e_074d_11ec_b370_0242ac1c0002row4_col16\" class=\"data row4 col16\" >40.750198</td>\n",
              "                        <td id=\"T_0ceea55e_074d_11ec_b370_0242ac1c0002row4_col17\" class=\"data row4 col17\" >250</td>\n",
              "                        <td id=\"T_0ceea55e_074d_11ec_b370_0242ac1c0002row4_col18\" class=\"data row4 col18\" >nan</td>\n",
              "                        <td id=\"T_0ceea55e_074d_11ec_b370_0242ac1c0002row4_col19\" class=\"data row4 col19\" >nan</td>\n",
              "                        <td id=\"T_0ceea55e_074d_11ec_b370_0242ac1c0002row4_col20\" class=\"data row4 col20\" >358</td>\n",
              "                        <td id=\"T_0ceea55e_074d_11ec_b370_0242ac1c0002row4_col21\" class=\"data row4 col21\" >1577</td>\n",
              "            </tr>\n",
              "            <tr>\n",
              "                        <th id=\"T_0ceea55e_074d_11ec_b370_0242ac1c0002level0_row5\" class=\"row_heading level0 row5\" >5</th>\n",
              "                        <td id=\"T_0ceea55e_074d_11ec_b370_0242ac1c0002row5_col0\" class=\"data row5 col0\" >id3564842</td>\n",
              "                        <td id=\"T_0ceea55e_074d_11ec_b370_0242ac1c0002row5_col1\" class=\"data row5 col1\" >1</td>\n",
              "                        <td id=\"T_0ceea55e_074d_11ec_b370_0242ac1c0002row5_col2\" class=\"data row5 col2\" >nan</td>\n",
              "                        <td id=\"T_0ceea55e_074d_11ec_b370_0242ac1c0002row5_col3\" class=\"data row5 col3\" >nan</td>\n",
              "                        <td id=\"T_0ceea55e_074d_11ec_b370_0242ac1c0002row5_col4\" class=\"data row5 col4\" >2016-05-07 13:18:07</td>\n",
              "                        <td id=\"T_0ceea55e_074d_11ec_b370_0242ac1c0002row5_col5\" class=\"data row5 col5\" >5</td>\n",
              "                        <td id=\"T_0ceea55e_074d_11ec_b370_0242ac1c0002row5_col6\" class=\"data row5 col6\" >2016-05-17 21:08:29</td>\n",
              "                        <td id=\"T_0ceea55e_074d_11ec_b370_0242ac1c0002row5_col7\" class=\"data row5 col7\" >4</td>\n",
              "                        <td id=\"T_0ceea55e_074d_11ec_b370_0242ac1c0002row5_col8\" class=\"data row5 col8\" >4</td>\n",
              "                        <td id=\"T_0ceea55e_074d_11ec_b370_0242ac1c0002row5_col9\" class=\"data row5 col9\" >28404</td>\n",
              "                        <td id=\"T_0ceea55e_074d_11ec_b370_0242ac1c0002row5_col10\" class=\"data row5 col10\" >-73.982094</td>\n",
              "                        <td id=\"T_0ceea55e_074d_11ec_b370_0242ac1c0002row5_col11\" class=\"data row5 col11\" >575</td>\n",
              "                        <td id=\"T_0ceea55e_074d_11ec_b370_0242ac1c0002row5_col12\" class=\"data row5 col12\" >40.774052</td>\n",
              "                        <td id=\"T_0ceea55e_074d_11ec_b370_0242ac1c0002row5_col13\" class=\"data row5 col13\" >376</td>\n",
              "                        <td id=\"T_0ceea55e_074d_11ec_b370_0242ac1c0002row5_col14\" class=\"data row5 col14\" >-73.982201</td>\n",
              "                        <td id=\"T_0ceea55e_074d_11ec_b370_0242ac1c0002row5_col15\" class=\"data row5 col15\" >419</td>\n",
              "                        <td id=\"T_0ceea55e_074d_11ec_b370_0242ac1c0002row5_col16\" class=\"data row5 col16\" >40.750172</td>\n",
              "                        <td id=\"T_0ceea55e_074d_11ec_b370_0242ac1c0002row5_col17\" class=\"data row5 col17\" >247</td>\n",
              "                        <td id=\"T_0ceea55e_074d_11ec_b370_0242ac1c0002row5_col18\" class=\"data row5 col18\" >nan</td>\n",
              "                        <td id=\"T_0ceea55e_074d_11ec_b370_0242ac1c0002row5_col19\" class=\"data row5 col19\" >nan</td>\n",
              "                        <td id=\"T_0ceea55e_074d_11ec_b370_0242ac1c0002row5_col20\" class=\"data row5 col20\" >399</td>\n",
              "                        <td id=\"T_0ceea55e_074d_11ec_b370_0242ac1c0002row5_col21\" class=\"data row5 col21\" >1573</td>\n",
              "            </tr>\n",
              "            <tr>\n",
              "                        <th id=\"T_0ceea55e_074d_11ec_b370_0242ac1c0002level0_row6\" class=\"row_heading level0 row6\" >6</th>\n",
              "                        <td id=\"T_0ceea55e_074d_11ec_b370_0242ac1c0002row6_col0\" class=\"data row6 col0\" >id1302928</td>\n",
              "                        <td id=\"T_0ceea55e_074d_11ec_b370_0242ac1c0002row6_col1\" class=\"data row6 col1\" >1</td>\n",
              "                        <td id=\"T_0ceea55e_074d_11ec_b370_0242ac1c0002row6_col2\" class=\"data row6 col2\" >nan</td>\n",
              "                        <td id=\"T_0ceea55e_074d_11ec_b370_0242ac1c0002row6_col3\" class=\"data row6 col3\" >nan</td>\n",
              "                        <td id=\"T_0ceea55e_074d_11ec_b370_0242ac1c0002row6_col4\" class=\"data row6 col4\" >2016-04-16 21:50:51</td>\n",
              "                        <td id=\"T_0ceea55e_074d_11ec_b370_0242ac1c0002row6_col5\" class=\"data row6 col5\" >4</td>\n",
              "                        <td id=\"T_0ceea55e_074d_11ec_b370_0242ac1c0002row6_col6\" class=\"data row6 col6\" >2016-03-18 08:01:14</td>\n",
              "                        <td id=\"T_0ceea55e_074d_11ec_b370_0242ac1c0002row6_col7\" class=\"data row6 col7\" >4</td>\n",
              "                        <td id=\"T_0ceea55e_074d_11ec_b370_0242ac1c0002row6_col8\" class=\"data row6 col8\" >0</td>\n",
              "                        <td id=\"T_0ceea55e_074d_11ec_b370_0242ac1c0002row6_col9\" class=\"data row6 col9\" >60</td>\n",
              "                        <td id=\"T_0ceea55e_074d_11ec_b370_0242ac1c0002row6_col10\" class=\"data row6 col10\" >-73.982246</td>\n",
              "                        <td id=\"T_0ceea55e_074d_11ec_b370_0242ac1c0002row6_col11\" class=\"data row6 col11\" >558</td>\n",
              "                        <td id=\"T_0ceea55e_074d_11ec_b370_0242ac1c0002row6_col12\" class=\"data row6 col12\" >40.774132</td>\n",
              "                        <td id=\"T_0ceea55e_074d_11ec_b370_0242ac1c0002row6_col13\" class=\"data row6 col13\" >356</td>\n",
              "                        <td id=\"T_0ceea55e_074d_11ec_b370_0242ac1c0002row6_col14\" class=\"data row6 col14\" >-73.982269</td>\n",
              "                        <td id=\"T_0ceea55e_074d_11ec_b370_0242ac1c0002row6_col15\" class=\"data row6 col15\" >414</td>\n",
              "                        <td id=\"T_0ceea55e_074d_11ec_b370_0242ac1c0002row6_col16\" class=\"data row6 col16\" >40.774319</td>\n",
              "                        <td id=\"T_0ceea55e_074d_11ec_b370_0242ac1c0002row6_col17\" class=\"data row6 col17\" >245</td>\n",
              "                        <td id=\"T_0ceea55e_074d_11ec_b370_0242ac1c0002row6_col18\" class=\"data row6 col18\" >nan</td>\n",
              "                        <td id=\"T_0ceea55e_074d_11ec_b370_0242ac1c0002row6_col19\" class=\"data row6 col19\" >nan</td>\n",
              "                        <td id=\"T_0ceea55e_074d_11ec_b370_0242ac1c0002row6_col20\" class=\"data row6 col20\" >418</td>\n",
              "                        <td id=\"T_0ceea55e_074d_11ec_b370_0242ac1c0002row6_col21\" class=\"data row6 col21\" >1570</td>\n",
              "            </tr>\n",
              "            <tr>\n",
              "                        <th id=\"T_0ceea55e_074d_11ec_b370_0242ac1c0002level0_row7\" class=\"row_heading level0 row7\" >7</th>\n",
              "                        <td id=\"T_0ceea55e_074d_11ec_b370_0242ac1c0002row7_col0\" class=\"data row7 col0\" >id0012117</td>\n",
              "                        <td id=\"T_0ceea55e_074d_11ec_b370_0242ac1c0002row7_col1\" class=\"data row7 col1\" >1</td>\n",
              "                        <td id=\"T_0ceea55e_074d_11ec_b370_0242ac1c0002row7_col2\" class=\"data row7 col2\" >nan</td>\n",
              "                        <td id=\"T_0ceea55e_074d_11ec_b370_0242ac1c0002row7_col3\" class=\"data row7 col3\" >nan</td>\n",
              "                        <td id=\"T_0ceea55e_074d_11ec_b370_0242ac1c0002row7_col4\" class=\"data row7 col4\" >2016-04-26 18:15:42</td>\n",
              "                        <td id=\"T_0ceea55e_074d_11ec_b370_0242ac1c0002row7_col5\" class=\"data row7 col5\" >4</td>\n",
              "                        <td id=\"T_0ceea55e_074d_11ec_b370_0242ac1c0002row7_col6\" class=\"data row7 col6\" >2016-02-06 19:57:23</td>\n",
              "                        <td id=\"T_0ceea55e_074d_11ec_b370_0242ac1c0002row7_col7\" class=\"data row7 col7\" >4</td>\n",
              "                        <td id=\"T_0ceea55e_074d_11ec_b370_0242ac1c0002row7_col8\" class=\"data row7 col8\" >7</td>\n",
              "                        <td id=\"T_0ceea55e_074d_11ec_b370_0242ac1c0002row7_col9\" class=\"data row7 col9\" >3</td>\n",
              "                        <td id=\"T_0ceea55e_074d_11ec_b370_0242ac1c0002row7_col10\" class=\"data row7 col10\" >-73.982208</td>\n",
              "                        <td id=\"T_0ceea55e_074d_11ec_b370_0242ac1c0002row7_col11\" class=\"data row7 col11\" >551</td>\n",
              "                        <td id=\"T_0ceea55e_074d_11ec_b370_0242ac1c0002row7_col12\" class=\"data row7 col12\" >40.774139</td>\n",
              "                        <td id=\"T_0ceea55e_074d_11ec_b370_0242ac1c0002row7_col13\" class=\"data row7 col13\" >352</td>\n",
              "                        <td id=\"T_0ceea55e_074d_11ec_b370_0242ac1c0002row7_col14\" class=\"data row7 col14\" >-73.991402</td>\n",
              "                        <td id=\"T_0ceea55e_074d_11ec_b370_0242ac1c0002row7_col15\" class=\"data row7 col15\" >406</td>\n",
              "                        <td id=\"T_0ceea55e_074d_11ec_b370_0242ac1c0002row7_col16\" class=\"data row7 col16\" >40.774342</td>\n",
              "                        <td id=\"T_0ceea55e_074d_11ec_b370_0242ac1c0002row7_col17\" class=\"data row7 col17\" >244</td>\n",
              "                        <td id=\"T_0ceea55e_074d_11ec_b370_0242ac1c0002row7_col18\" class=\"data row7 col18\" >nan</td>\n",
              "                        <td id=\"T_0ceea55e_074d_11ec_b370_0242ac1c0002row7_col19\" class=\"data row7 col19\" >nan</td>\n",
              "                        <td id=\"T_0ceea55e_074d_11ec_b370_0242ac1c0002row7_col20\" class=\"data row7 col20\" >417</td>\n",
              "                        <td id=\"T_0ceea55e_074d_11ec_b370_0242ac1c0002row7_col21\" class=\"data row7 col21\" >1568</td>\n",
              "            </tr>\n",
              "            <tr>\n",
              "                        <th id=\"T_0ceea55e_074d_11ec_b370_0242ac1c0002level0_row8\" class=\"row_heading level0 row8\" >8</th>\n",
              "                        <td id=\"T_0ceea55e_074d_11ec_b370_0242ac1c0002row8_col0\" class=\"data row8 col0\" >id3317583</td>\n",
              "                        <td id=\"T_0ceea55e_074d_11ec_b370_0242ac1c0002row8_col1\" class=\"data row8 col1\" >1</td>\n",
              "                        <td id=\"T_0ceea55e_074d_11ec_b370_0242ac1c0002row8_col2\" class=\"data row8 col2\" >nan</td>\n",
              "                        <td id=\"T_0ceea55e_074d_11ec_b370_0242ac1c0002row8_col3\" class=\"data row8 col3\" >nan</td>\n",
              "                        <td id=\"T_0ceea55e_074d_11ec_b370_0242ac1c0002row8_col4\" class=\"data row8 col4\" >2016-01-22 20:25:22</td>\n",
              "                        <td id=\"T_0ceea55e_074d_11ec_b370_0242ac1c0002row8_col5\" class=\"data row8 col5\" >4</td>\n",
              "                        <td id=\"T_0ceea55e_074d_11ec_b370_0242ac1c0002row8_col6\" class=\"data row8 col6\" >2016-02-18 16:10:51</td>\n",
              "                        <td id=\"T_0ceea55e_074d_11ec_b370_0242ac1c0002row8_col7\" class=\"data row8 col7\" >4</td>\n",
              "                        <td id=\"T_0ceea55e_074d_11ec_b370_0242ac1c0002row8_col8\" class=\"data row8 col8\" >8</td>\n",
              "                        <td id=\"T_0ceea55e_074d_11ec_b370_0242ac1c0002row8_col9\" class=\"data row8 col9\" >1</td>\n",
              "                        <td id=\"T_0ceea55e_074d_11ec_b370_0242ac1c0002row8_col10\" class=\"data row8 col10\" >-73.982307</td>\n",
              "                        <td id=\"T_0ceea55e_074d_11ec_b370_0242ac1c0002row8_col11\" class=\"data row8 col11\" >546</td>\n",
              "                        <td id=\"T_0ceea55e_074d_11ec_b370_0242ac1c0002row8_col12\" class=\"data row8 col12\" >40.774071</td>\n",
              "                        <td id=\"T_0ceea55e_074d_11ec_b370_0242ac1c0002row8_col13\" class=\"data row8 col13\" >347</td>\n",
              "                        <td id=\"T_0ceea55e_074d_11ec_b370_0242ac1c0002row8_col14\" class=\"data row8 col14\" >-73.982384</td>\n",
              "                        <td id=\"T_0ceea55e_074d_11ec_b370_0242ac1c0002row8_col15\" class=\"data row8 col15\" >405</td>\n",
              "                        <td id=\"T_0ceea55e_074d_11ec_b370_0242ac1c0002row8_col16\" class=\"data row8 col16\" >40.750038</td>\n",
              "                        <td id=\"T_0ceea55e_074d_11ec_b370_0242ac1c0002row8_col17\" class=\"data row8 col17\" >242</td>\n",
              "                        <td id=\"T_0ceea55e_074d_11ec_b370_0242ac1c0002row8_col18\" class=\"data row8 col18\" >nan</td>\n",
              "                        <td id=\"T_0ceea55e_074d_11ec_b370_0242ac1c0002row8_col19\" class=\"data row8 col19\" >nan</td>\n",
              "                        <td id=\"T_0ceea55e_074d_11ec_b370_0242ac1c0002row8_col20\" class=\"data row8 col20\" >388</td>\n",
              "                        <td id=\"T_0ceea55e_074d_11ec_b370_0242ac1c0002row8_col21\" class=\"data row8 col21\" >1567</td>\n",
              "            </tr>\n",
              "            <tr>\n",
              "                        <th id=\"T_0ceea55e_074d_11ec_b370_0242ac1c0002level0_row9\" class=\"row_heading level0 row9\" >9</th>\n",
              "                        <td id=\"T_0ceea55e_074d_11ec_b370_0242ac1c0002row9_col0\" class=\"data row9 col0\" >id1800370</td>\n",
              "                        <td id=\"T_0ceea55e_074d_11ec_b370_0242ac1c0002row9_col1\" class=\"data row9 col1\" >1</td>\n",
              "                        <td id=\"T_0ceea55e_074d_11ec_b370_0242ac1c0002row9_col2\" class=\"data row9 col2\" >nan</td>\n",
              "                        <td id=\"T_0ceea55e_074d_11ec_b370_0242ac1c0002row9_col3\" class=\"data row9 col3\" >nan</td>\n",
              "                        <td id=\"T_0ceea55e_074d_11ec_b370_0242ac1c0002row9_col4\" class=\"data row9 col4\" >2016-02-24 12:04:42</td>\n",
              "                        <td id=\"T_0ceea55e_074d_11ec_b370_0242ac1c0002row9_col5\" class=\"data row9 col5\" >4</td>\n",
              "                        <td id=\"T_0ceea55e_074d_11ec_b370_0242ac1c0002row9_col6\" class=\"data row9 col6\" >2016-03-18 14:40:49</td>\n",
              "                        <td id=\"T_0ceea55e_074d_11ec_b370_0242ac1c0002row9_col7\" class=\"data row9 col7\" >4</td>\n",
              "                        <td id=\"T_0ceea55e_074d_11ec_b370_0242ac1c0002row9_col8\" class=\"data row9 col8\" >9</td>\n",
              "                        <td id=\"T_0ceea55e_074d_11ec_b370_0242ac1c0002row9_col9\" class=\"data row9 col9\" >1</td>\n",
              "                        <td id=\"T_0ceea55e_074d_11ec_b370_0242ac1c0002row9_col10\" class=\"data row9 col10\" >-73.982239</td>\n",
              "                        <td id=\"T_0ceea55e_074d_11ec_b370_0242ac1c0002row9_col11\" class=\"data row9 col11\" >545</td>\n",
              "                        <td id=\"T_0ceea55e_074d_11ec_b370_0242ac1c0002row9_col12\" class=\"data row9 col12\" >40.774158</td>\n",
              "                        <td id=\"T_0ceea55e_074d_11ec_b370_0242ac1c0002row9_col13\" class=\"data row9 col13\" >335</td>\n",
              "                        <td id=\"T_0ceea55e_074d_11ec_b370_0242ac1c0002row9_col14\" class=\"data row9 col14\" >-73.982307</td>\n",
              "                        <td id=\"T_0ceea55e_074d_11ec_b370_0242ac1c0002row9_col15\" class=\"data row9 col15\" >403</td>\n",
              "                        <td id=\"T_0ceea55e_074d_11ec_b370_0242ac1c0002row9_col16\" class=\"data row9 col16\" >40.750111</td>\n",
              "                        <td id=\"T_0ceea55e_074d_11ec_b370_0242ac1c0002row9_col17\" class=\"data row9 col17\" >242</td>\n",
              "                        <td id=\"T_0ceea55e_074d_11ec_b370_0242ac1c0002row9_col18\" class=\"data row9 col18\" >nan</td>\n",
              "                        <td id=\"T_0ceea55e_074d_11ec_b370_0242ac1c0002row9_col19\" class=\"data row9 col19\" >nan</td>\n",
              "                        <td id=\"T_0ceea55e_074d_11ec_b370_0242ac1c0002row9_col20\" class=\"data row9 col20\" >344</td>\n",
              "                        <td id=\"T_0ceea55e_074d_11ec_b370_0242ac1c0002row9_col21\" class=\"data row9 col21\" >1561</td>\n",
              "            </tr>\n",
              "    </tbody></table>"
            ],
            "text/plain": [
              "<pandas.io.formats.style.Styler at 0x7ff8c6fe42d0>"
            ]
          },
          "metadata": {},
          "execution_count": 5
        }
      ]
    },
    {
      "cell_type": "code",
      "metadata": {
        "id": "fV_ed0zgk1nC",
        "colab": {
          "base_uri": "https://localhost:8080/",
          "height": 933
        },
        "outputId": "4b755b3f-a03d-4d2c-8ac0-eb81367ed48d"
      },
      "source": [
        "corr = df.corr()                                                                #plotting co-relation chart\n",
        "plt.figure(figsize=(25,15))\n",
        "sns.heatmap(corr, annot=True)\n",
        "plt.show()                                                                      #there is no correlation whatsoever between our dependent and independent variables, thus i will be making various features to improve this situation                                            "
      ],
      "execution_count": 6,
      "outputs": [
        {
          "output_type": "display_data",
          "data": {
            "image/png": "[encoded data removed]",
            "text/plain": [
              "<Figure size 1800x1080 with 2 Axes>"
            ]
          },
          "metadata": {}
        }
      ]
    },
    {
      "cell_type": "code",
      "metadata": {
        "colab": {
          "base_uri": "https://localhost:8080/",
          "height": 297
        },
        "id": "5Np5Am_vSy4R",
        "outputId": "f836e7b5-a978-4e32-ed72-9625e1129144"
      },
      "source": [
        "df.describe()                                                                   #their are few cases with passanger count 0, lets explore it\n",
        "                                                                                #also minimum drip duretion is 1 sec which show an anomaly, lets remove them first\n",
        "                                                                                # Minimum pickup and dropoff longitude are really low than mean"
      ],
      "execution_count": 7,
      "outputs": [
        {
          "output_type": "execute_result",
          "data": {
            "text/html": [
              "<div>\n",
              "<style scoped>\n",
              "    .dataframe tbody tr th:only-of-type {\n",
              "        vertical-align: middle;\n",
              "    }\n",
              "\n",
              "    .dataframe tbody tr th {\n",
              "        vertical-align: top;\n",
              "    }\n",
              "\n",
              "    .dataframe thead th {\n",
              "        text-align: right;\n",
              "    }\n",
              "</style>\n",
              "<table border=\"1\" class=\"dataframe\">\n",
              "  <thead>\n",
              "    <tr style=\"text-align: right;\">\n",
              "      <th></th>\n",
              "      <th>vendor_id</th>\n",
              "      <th>passenger_count</th>\n",
              "      <th>pickup_longitude</th>\n",
              "      <th>pickup_latitude</th>\n",
              "      <th>dropoff_longitude</th>\n",
              "      <th>dropoff_latitude</th>\n",
              "      <th>trip_duration</th>\n",
              "    </tr>\n",
              "  </thead>\n",
              "  <tbody>\n",
              "    <tr>\n",
              "      <th>count</th>\n",
              "      <td>1.458644e+06</td>\n",
              "      <td>1.458644e+06</td>\n",
              "      <td>1.458644e+06</td>\n",
              "      <td>1.458644e+06</td>\n",
              "      <td>1.458644e+06</td>\n",
              "      <td>1.458644e+06</td>\n",
              "      <td>1.458644e+06</td>\n",
              "    </tr>\n",
              "    <tr>\n",
              "      <th>mean</th>\n",
              "      <td>1.534950e+00</td>\n",
              "      <td>1.664530e+00</td>\n",
              "      <td>-7.397349e+01</td>\n",
              "      <td>4.075092e+01</td>\n",
              "      <td>-7.397342e+01</td>\n",
              "      <td>4.075180e+01</td>\n",
              "      <td>9.594923e+02</td>\n",
              "    </tr>\n",
              "    <tr>\n",
              "      <th>std</th>\n",
              "      <td>4.987772e-01</td>\n",
              "      <td>1.314242e+00</td>\n",
              "      <td>7.090186e-02</td>\n",
              "      <td>3.288119e-02</td>\n",
              "      <td>7.064327e-02</td>\n",
              "      <td>3.589056e-02</td>\n",
              "      <td>5.237432e+03</td>\n",
              "    </tr>\n",
              "    <tr>\n",
              "      <th>min</th>\n",
              "      <td>1.000000e+00</td>\n",
              "      <td>0.000000e+00</td>\n",
              "      <td>-1.219333e+02</td>\n",
              "      <td>3.435970e+01</td>\n",
              "      <td>-1.219333e+02</td>\n",
              "      <td>3.218114e+01</td>\n",
              "      <td>1.000000e+00</td>\n",
              "    </tr>\n",
              "    <tr>\n",
              "      <th>25%</th>\n",
              "      <td>1.000000e+00</td>\n",
              "      <td>1.000000e+00</td>\n",
              "      <td>-7.399187e+01</td>\n",
              "      <td>4.073735e+01</td>\n",
              "      <td>-7.399133e+01</td>\n",
              "      <td>4.073588e+01</td>\n",
              "      <td>3.970000e+02</td>\n",
              "    </tr>\n",
              "    <tr>\n",
              "      <th>50%</th>\n",
              "      <td>2.000000e+00</td>\n",
              "      <td>1.000000e+00</td>\n",
              "      <td>-7.398174e+01</td>\n",
              "      <td>4.075410e+01</td>\n",
              "      <td>-7.397975e+01</td>\n",
              "      <td>4.075452e+01</td>\n",
              "      <td>6.620000e+02</td>\n",
              "    </tr>\n",
              "    <tr>\n",
              "      <th>75%</th>\n",
              "      <td>2.000000e+00</td>\n",
              "      <td>2.000000e+00</td>\n",
              "      <td>-7.396733e+01</td>\n",
              "      <td>4.076836e+01</td>\n",
              "      <td>-7.396301e+01</td>\n",
              "      <td>4.076981e+01</td>\n",
              "      <td>1.075000e+03</td>\n",
              "    </tr>\n",
              "    <tr>\n",
              "      <th>max</th>\n",
              "      <td>2.000000e+00</td>\n",
              "      <td>9.000000e+00</td>\n",
              "      <td>-6.133553e+01</td>\n",
              "      <td>5.188108e+01</td>\n",
              "      <td>-6.133553e+01</td>\n",
              "      <td>4.392103e+01</td>\n",
              "      <td>3.526282e+06</td>\n",
              "    </tr>\n",
              "  </tbody>\n",
              "</table>\n",
              "</div>"
            ],
            "text/plain": [
              "          vendor_id  passenger_count  ...  dropoff_latitude  trip_duration\n",
              "count  1.458644e+06  1.458644e+06     ...  1.458644e+06      1.458644e+06 \n",
              "mean   1.534950e+00  1.664530e+00     ...  4.075180e+01      9.594923e+02 \n",
              "std    4.987772e-01  1.314242e+00     ...  3.589056e-02      5.237432e+03 \n",
              "min    1.000000e+00  0.000000e+00     ...  3.218114e+01      1.000000e+00 \n",
              "25%    1.000000e+00  1.000000e+00     ...  4.073588e+01      3.970000e+02 \n",
              "50%    2.000000e+00  1.000000e+00     ...  4.075452e+01      6.620000e+02 \n",
              "75%    2.000000e+00  2.000000e+00     ...  4.076981e+01      1.075000e+03 \n",
              "max    2.000000e+00  9.000000e+00     ...  4.392103e+01      3.526282e+06 \n",
              "\n",
              "[8 rows x 7 columns]"
            ]
          },
          "metadata": {},
          "execution_count": 7
        }
      ]
    },
    {
      "cell_type": "code",
      "metadata": {
        "id": "bySWpBAXWPI8"
      },
      "source": [
        "df=df[df.passenger_count!=0]                                                    #Removing rows with 0 passenger count                                      "
      ],
      "execution_count": 8,
      "outputs": []
    },
    {
      "cell_type": "code",
      "metadata": {
        "id": "Lf8xV2kxjvmp",
        "colab": {
          "base_uri": "https://localhost:8080/"
        },
        "outputId": "ac5aadb7-dc6b-4dff-f6e2-cb1066ea8f57"
      },
      "source": [
        "df['pickup_datetime'] = pd.to_datetime(df['pickup_datetime'], format='%Y-%m-%d %H:%M:%S')                 #Converting these dates to datetime format\n",
        "df['dropoff_datetime']=pd.to_datetime(df['dropoff_datetime'],format='%Y-%m-%d %H:%M:%S')\n",
        "df.columns"
      ],
      "execution_count": 9,
      "outputs": [
        {
          "output_type": "execute_result",
          "data": {
            "text/plain": [
              "Index(['id', 'vendor_id', 'pickup_datetime', 'dropoff_datetime',\n",
              "       'passenger_count', 'pickup_longitude', 'pickup_latitude',\n",
              "       'dropoff_longitude', 'dropoff_latitude', 'store_and_fwd_flag',\n",
              "       'trip_duration'],\n",
              "      dtype='object')"
            ]
          },
          "metadata": {},
          "execution_count": 9
        }
      ]
    },
    {
      "cell_type": "code",
      "metadata": {
        "colab": {
          "base_uri": "https://localhost:8080/"
        },
        "id": "9QW43Wkltd4d",
        "outputId": "0b9abfce-378c-45b1-ad64-b05aa9461578"
      },
      "source": [
        "print(np.percentile(df.trip_duration,0.1),\n",
        "np.percentile(df.trip_duration,0.5),\n",
        "np.percentile(df.trip_duration,1.5),                                            #after this the value starts to get saturated thus anything below 107 sec is mostly a outlier, now lets look for maximum value as well\n",
        "np.percentile(df.trip_duration,2),\n",
        "np.percentile(df.trip_duration,2.5),\n",
        "np.percentile(df.trip_duration,3),\n",
        "np.percentile(df.trip_duration,3.5))"
      ],
      "execution_count": 10,
      "outputs": [
        {
          "output_type": "stream",
          "text": [
            "7.0 51.0 107.0 122.0 135.0 146.0 156.0\n"
          ],
          "name": "stdout"
        }
      ]
    },
    {
      "cell_type": "code",
      "metadata": {
        "colab": {
          "base_uri": "https://localhost:8080/"
        },
        "id": "XPXob2kSyYt_",
        "outputId": "6ad06bbc-0c74-4a7a-fb05-811727bbe40b"
      },
      "source": [
        "print(np.percentile(df.trip_duration,98.5),\n",
        "np.percentile(df.trip_duration,99),\n",
        "np.percentile(df.trip_duration,99.5),                                           #after this the value starts to get increase suddenly thus anything above 4139 sec is mostly a outlier, lets remove these values\n",
        "np.percentile(df.trip_duration,99.9))"
      ],
      "execution_count": 11,
      "outputs": [
        {
          "output_type": "stream",
          "text": [
            "3072.0 3440.0 4139.0 85127.41700000013\n"
          ],
          "name": "stdout"
        }
      ]
    },
    {
      "cell_type": "code",
      "metadata": {
        "id": "mlAIQmngy_fG"
      },
      "source": [
        "df=df[(df.trip_duration>=107) & (df.trip_duration<=4139)]"
      ],
      "execution_count": 12,
      "outputs": []
    },
    {
      "cell_type": "code",
      "metadata": {
        "colab": {
          "base_uri": "https://localhost:8080/"
        },
        "id": "rrZE0wl5Dabj",
        "outputId": "974cbe2c-8277-44c0-8402-7ea0fb88753b"
      },
      "source": [
        "print(np.percentile(df.pickup_longitude,0.1),\n",
        "      np.percentile(df.pickup_longitude,0.05),                                  #after this their is anomaly \n",
        "      np.percentile(df.pickup_longitude,0.01),                                                                  \n",
        "      np.percentile(df.pickup_longitude,0.001),\n",
        "      np.percentile(df.pickup_longitude,0.0001))\n",
        "df=df[df.pickup_longitude>-74.017]\n",
        "print(np.percentile(df.dropoff_longitude,0.1),\n",
        "      np.percentile(df.dropoff_longitude,0.05),\n",
        "      np.percentile(df.dropoff_longitude,0.01),                                  #after this their is anomaly                                 \n",
        "      np.percentile(df.dropoff_longitude,0.001),\n",
        "      np.percentile(df.dropoff_longitude,0.0001))\n",
        "df=df[df.dropoff_longitude>=-74.467]"
      ],
      "execution_count": 13,
      "outputs": [
        {
          "output_type": "stream",
          "text": [
            "-74.01712036132812 -74.01737976074219 -74.07968558120727 -74.35324770942688 -103.73459467295076\n",
            "-74.17746734619139 -74.18138921356203 -74.18852077331543 -74.46795725708009 -79.53859309568787\n"
          ],
          "name": "stdout"
        }
      ]
    },
    {
      "cell_type": "code",
      "metadata": {
        "colab": {
          "base_uri": "https://localhost:8080/"
        },
        "id": "s9KhMVtCnS7l",
        "outputId": "ad9f57c4-9270-4337-b25b-f47587ee0e4f"
      },
      "source": [
        "#adding another column with distance metric calculted using lat and long \n",
        "df['haversine distance (km)'] = df.apply(lambda x: float(hs.haversine((x['pickup_latitude'],x['pickup_longitude']),(x['dropoff_latitude'], x['dropoff_longitude']))),axis=1)\n",
        "df.shape"
      ],
      "execution_count": 16,
      "outputs": [
        {
          "output_type": "execute_result",
          "data": {
            "text/plain": [
              "(1427892, 12)"
            ]
          },
          "metadata": {},
          "execution_count": 16
        }
      ]
    },
    {
      "cell_type": "code",
      "metadata": {
        "colab": {
          "base_uri": "https://localhost:8080/",
          "height": 297
        },
        "id": "dcKGlSEot51X",
        "outputId": "5d0a01d4-e29a-470c-ce3b-7a70c90d82b2"
      },
      "source": [
        "df.describe()                                                                   #Data looks Perfect now,still their can be some relative anomalies, which i will remove using isolation forest                      "
      ],
      "execution_count": 17,
      "outputs": [
        {
          "output_type": "execute_result",
          "data": {
            "text/html": [
              "<div>\n",
              "<style scoped>\n",
              "    .dataframe tbody tr th:only-of-type {\n",
              "        vertical-align: middle;\n",
              "    }\n",
              "\n",
              "    .dataframe tbody tr th {\n",
              "        vertical-align: top;\n",
              "    }\n",
              "\n",
              "    .dataframe thead th {\n",
              "        text-align: right;\n",
              "    }\n",
              "</style>\n",
              "<table border=\"1\" class=\"dataframe\">\n",
              "  <thead>\n",
              "    <tr style=\"text-align: right;\">\n",
              "      <th></th>\n",
              "      <th>vendor_id</th>\n",
              "      <th>passenger_count</th>\n",
              "      <th>pickup_longitude</th>\n",
              "      <th>pickup_latitude</th>\n",
              "      <th>dropoff_longitude</th>\n",
              "      <th>dropoff_latitude</th>\n",
              "      <th>trip_duration</th>\n",
              "      <th>haversine distance (km)</th>\n",
              "    </tr>\n",
              "  </thead>\n",
              "  <tbody>\n",
              "    <tr>\n",
              "      <th>count</th>\n",
              "      <td>1.427892e+06</td>\n",
              "      <td>1.427892e+06</td>\n",
              "      <td>1.427892e+06</td>\n",
              "      <td>1.427892e+06</td>\n",
              "      <td>1.427892e+06</td>\n",
              "      <td>1.427892e+06</td>\n",
              "      <td>1.427892e+06</td>\n",
              "      <td>1.427892e+06</td>\n",
              "    </tr>\n",
              "    <tr>\n",
              "      <th>mean</th>\n",
              "      <td>1.535015e+00</td>\n",
              "      <td>1.665590e+00</td>\n",
              "      <td>-7.397380e+01</td>\n",
              "      <td>4.075116e+01</td>\n",
              "      <td>-7.397356e+01</td>\n",
              "      <td>4.075195e+01</td>\n",
              "      <td>8.335727e+02</td>\n",
              "      <td>3.427942e+00</td>\n",
              "    </tr>\n",
              "    <tr>\n",
              "      <th>std</th>\n",
              "      <td>4.987726e-01</td>\n",
              "      <td>1.314758e+00</td>\n",
              "      <td>4.072142e-02</td>\n",
              "      <td>3.073236e-02</td>\n",
              "      <td>3.874640e-02</td>\n",
              "      <td>3.366669e-02</td>\n",
              "      <td>6.076829e+02</td>\n",
              "      <td>4.003638e+00</td>\n",
              "    </tr>\n",
              "    <tr>\n",
              "      <th>min</th>\n",
              "      <td>1.000000e+00</td>\n",
              "      <td>1.000000e+00</td>\n",
              "      <td>-7.401700e+01</td>\n",
              "      <td>3.435970e+01</td>\n",
              "      <td>-7.445454e+01</td>\n",
              "      <td>3.435970e+01</td>\n",
              "      <td>1.070000e+02</td>\n",
              "      <td>0.000000e+00</td>\n",
              "    </tr>\n",
              "    <tr>\n",
              "      <th>25%</th>\n",
              "      <td>1.000000e+00</td>\n",
              "      <td>1.000000e+00</td>\n",
              "      <td>-7.399187e+01</td>\n",
              "      <td>4.073754e+01</td>\n",
              "      <td>-7.399133e+01</td>\n",
              "      <td>4.073601e+01</td>\n",
              "      <td>4.070000e+02</td>\n",
              "      <td>1.262051e+00</td>\n",
              "    </tr>\n",
              "    <tr>\n",
              "      <th>50%</th>\n",
              "      <td>2.000000e+00</td>\n",
              "      <td>1.000000e+00</td>\n",
              "      <td>-7.398180e+01</td>\n",
              "      <td>4.075417e+01</td>\n",
              "      <td>-7.397979e+01</td>\n",
              "      <td>4.075456e+01</td>\n",
              "      <td>6.680000e+02</td>\n",
              "      <td>2.118257e+00</td>\n",
              "    </tr>\n",
              "    <tr>\n",
              "      <th>75%</th>\n",
              "      <td>2.000000e+00</td>\n",
              "      <td>2.000000e+00</td>\n",
              "      <td>-7.396762e+01</td>\n",
              "      <td>4.076834e+01</td>\n",
              "      <td>-7.396320e+01</td>\n",
              "      <td>4.076979e+01</td>\n",
              "      <td>1.075000e+03</td>\n",
              "      <td>3.887181e+00</td>\n",
              "    </tr>\n",
              "    <tr>\n",
              "      <th>max</th>\n",
              "      <td>2.000000e+00</td>\n",
              "      <td>9.000000e+00</td>\n",
              "      <td>-6.133553e+01</td>\n",
              "      <td>5.188108e+01</td>\n",
              "      <td>-6.133553e+01</td>\n",
              "      <td>4.391176e+01</td>\n",
              "      <td>4.139000e+03</td>\n",
              "      <td>1.240910e+03</td>\n",
              "    </tr>\n",
              "  </tbody>\n",
              "</table>\n",
              "</div>"
            ],
            "text/plain": [
              "          vendor_id  passenger_count  ...  trip_duration  haversine distance (km)\n",
              "count  1.427892e+06  1.427892e+06     ...  1.427892e+06   1.427892e+06           \n",
              "mean   1.535015e+00  1.665590e+00     ...  8.335727e+02   3.427942e+00           \n",
              "std    4.987726e-01  1.314758e+00     ...  6.076829e+02   4.003638e+00           \n",
              "min    1.000000e+00  1.000000e+00     ...  1.070000e+02   0.000000e+00           \n",
              "25%    1.000000e+00  1.000000e+00     ...  4.070000e+02   1.262051e+00           \n",
              "50%    2.000000e+00  1.000000e+00     ...  6.680000e+02   2.118257e+00           \n",
              "75%    2.000000e+00  2.000000e+00     ...  1.075000e+03   3.887181e+00           \n",
              "max    2.000000e+00  9.000000e+00     ...  4.139000e+03   1.240910e+03           \n",
              "\n",
              "[8 rows x 8 columns]"
            ]
          },
          "metadata": {},
          "execution_count": 17
        }
      ]
    },
    {
      "cell_type": "code",
      "metadata": {
        "colab": {
          "base_uri": "https://localhost:8080/",
          "height": 383
        },
        "id": "3cy6xHViweIP",
        "outputId": "91632164-34e7-41ef-ebaf-d215c0922210"
      },
      "source": [
        "minmax = MinMaxScaler(feature_range=(0, 1))                                     #Using Isolation Forest algorithm for anomaly detection, for contamination i will use various values and visualize the best scatter plot\n",
        "X = minmax.fit_transform(df[['trip_duration','haversine distance (km)','pickup_longitude','pickup_latitude','dropoff_longitude','dropoff_latitude']])\n",
        "contamination_list=[0.025,0.05,0.075,0.1]\n",
        "for contamination in contamination_list:\n",
        "  clf = IsolationForest(n_estimators=100, contamination=contamination, random_state=0)      \n",
        "  try:\n",
        "    clf.fit(X)\n",
        "  except:\n",
        "    pass\n",
        "  temp=df\n",
        "  temp['multivariate_outlier'] = clf.predict(X)                                   # prediction of a datapoint category outlier or inlier\n",
        "  temp=temp[temp.multivariate_outlier==1]                                             #removing these outliers\n",
        "  f, (ax1, ax2) = plt.subplots(1, 2, sharey=True,figsize=(15,5))\n",
        "\n",
        "  temp.plot(kind='scatter', x='pickup_longitude', y='pickup_latitude',\n",
        "                  color='yellow', \n",
        "                  s=.02, alpha=.6, subplots=True, ax=ax1)\n",
        "  ax1.set_title(f\"Pickups_contamination= {contamination}\")\n",
        "  ax1.set_facecolor('black')\n",
        "\n",
        "  temp.plot(kind='scatter', x='dropoff_longitude', y='dropoff_latitude',\n",
        "                  color='yellow', \n",
        "                  s=.02, alpha=.6, subplots=True, ax=ax2)\n",
        "  ax2.set_title(f\"Dropoffs_contamination= {contamination}\")\n",
        "  ax2.set_facecolor('black') \n",
        "  plt.show()"
      ],
      "execution_count": null,
      "outputs": [
        {
          "output_type": "display_data",
          "data": {
            "image/png": "[encoded data removed]",
            "text/plain": [
              "<Figure size 1080x360 with 2 Axes>"
            ]
          },
          "metadata": {}
        }
      ]
    },
    {
      "cell_type": "code",
      "metadata": {
        "id": "ssvcxHw423oj"
      },
      "source": [
        "'''Thus contamination=0.075 works best as we want to retain maximum amount of data'''\n",
        "clf = IsolationForest(n_estimators=100, contamination=contamination, random_state=0)      \n",
        "clf.fit(X)\n",
        "df['multivariate_outlier'] = clf.predict(X)                                   # prediction of a datapoint category outlier or inlier\n",
        "df=df[df.multivariate_outlier==1]  \n",
        "df.drop('multivariate_outlier',axis=1,inplace=True)"
      ],
      "execution_count": null,
      "outputs": []
    },
    {
      "cell_type": "code",
      "metadata": {
        "id": "J51rQsY3NWWu"
      },
      "source": [
        "df.head()"
      ],
      "execution_count": null,
      "outputs": []
    },
    {
      "cell_type": "code",
      "metadata": {
        "id": "tPu0-1mHUXDa"
      },
      "source": [
        "try:\n",
        "  df.drop('id',axis=1,inplace=True)                                             #this is of no use\n",
        "except:\n",
        "  pass\n",
        "sns.countplot(df.passenger_count)\n",
        "one_hot_entity='Passenger_count'    \n",
        "column_one_hot=['passenger_count']                # one hot encoding \n",
        "count=0"
      ],
      "execution_count": null,
      "outputs": []
    },
    {
      "cell_type": "code",
      "metadata": {
        "id": "hDz0kjRKPZyD"
      },
      "source": [
        "for i in column_one_hot:\n",
        "  temp_df=pd.get_dummies(df[i], prefix=one_hot_entity)\n",
        "  count+=1\n",
        "  try:\n",
        "    df_one_hot=pd.concat([df_one_hot, temp_df], axis=1)\n",
        "  except:\n",
        "    df_one_hot=temp_df\n",
        "df=pd.concat([df,df_one_hot], axis=1)\n",
        "df.head()"
      ],
      "execution_count": null,
      "outputs": []
    },
    {
      "cell_type": "code",
      "metadata": {
        "id": "zzQ94qJCmfKS"
      },
      "source": [
        ""
      ],
      "execution_count": null,
      "outputs": []
    },
    {
      "cell_type": "code",
      "metadata": {
        "id": "vwiRFk4AnxBt"
      },
      "source": [
        "train['trip_duration_in_hour']=train['trip_duration'].apply(lambda x:x/3600)\n",
        "train.head()"
      ],
      "execution_count": null,
      "outputs": []
    },
    {
      "cell_type": "code",
      "metadata": {
        "id": "pW61K7p2poxk"
      },
      "source": [
        "outlier_trip_duration=train.loc[train['trip_duration_in_hour']>24]\n",
        "outlier_trip_duration"
      ],
      "execution_count": null,
      "outputs": []
    },
    {
      "cell_type": "code",
      "metadata": {
        "id": "zhM5Qb3fu-Aw"
      },
      "source": [
        "pickup=train.groupby(['pickup_latitude_round3','pickup_longitude_round3'])['id'].count().reset_index().rename(columns={'id':'Num_Trips'})"
      ],
      "execution_count": null,
      "outputs": []
    },
    {
      "cell_type": "code",
      "metadata": {
        "id": "9ZE0PkPo3CZn"
      },
      "source": [
        "city_long_border = (-74.03, -73.75)\n",
        "city_lat_border = (40.63, 40.85)\n",
        "fig, ax = plt.subplots(ncols=1, sharex=True, sharey=True)\n",
        "ax.scatter(train['pickup_longitude'], train['pickup_latitude'],\n",
        "              color='blue', label='train', alpha=0.1)\n",
        "\n",
        "fig.suptitle('Lat Lng of Pickups in Train Data as Scatter Plot')\n",
        "\n",
        "ax.set_ylabel('latitude')\n",
        "ax.set_xlabel('longitude')\n",
        "plt.ylim(city_lat_border)\n",
        "plt.xlim(city_long_border)\n"
      ],
      "execution_count": null,
      "outputs": []
    },
    {
      "cell_type": "code",
      "metadata": {
        "id": "DPb0xB5ClYnO"
      },
      "source": [
        "drop=train.groupby(['dropoff_latitude_round3','dropoff_longitude_round3'])['id'].count().reset_index().rename(columns={'id':'Num_Trips'})"
      ],
      "execution_count": null,
      "outputs": []
    },
    {
      "cell_type": "code",
      "metadata": {
        "id": "P8Wri87ntJOr"
      },
      "source": [
        "pickup=train.groupby(['pickup_latitude_round3','pickup_longitude_round3'])['trip_duration'].mean().reset_index().rename(columns={'trip_duration':'Avg_Trip_duration'}) #from graph there are many outliers because of longitude and some due to latitude we will remove both"
      ],
      "execution_count": null,
      "outputs": []
    },
    {
      "cell_type": "code",
      "metadata": {
        "id": "iggUnY4CvCzR"
      },
      "source": [
        "pickup_map = folium.Map(location = [40.730610,-73.935242],zoom_start = 10,)\n",
        "\n",
        "\n",
        "hm_wide = HeatMap( list(zip(pickup.pickup_latitude_round3.values, pickup.pickup_longitude_round3.values, pickup.Avg_Trip_duration.values)),\n",
        "                     min_opacity=0.2,\n",
        "                     radius=7, blur=15,\n",
        "                     max_zoom=1 \n",
        "                 )\n",
        "pickup_map.add_child(hm_wide)\n",
        "pickup_map"
      ],
      "execution_count": null,
      "outputs": []
    },
    {
      "cell_type": "code",
      "metadata": {
        "id": "8KgWhwUYrVkr"
      },
      "source": [
        "avg_duration_hour=train.groupby(['pickup_hour'])['trip_duration'].mean().reset_index().rename(columns={'trip_duration':'avg_trip_duration'})\n",
        "plt.figure(figsize=(8,5))\n",
        "plt.plot(train.groupby(['pickup_hour'])['trip_duration'].mean(),'o-')"
      ],
      "execution_count": null,
      "outputs": []
    },
    {
      "cell_type": "code",
      "metadata": {
        "id": "sy03_XKs4rdT"
      },
      "source": [
        "avg_duration_day=train.groupby(['pickup_day_of_week'])['trip_duration'].mean().reset_index().rename(columns={'trip_duration':'avg_trip_duration'})"
      ],
      "execution_count": null,
      "outputs": []
    },
    {
      "cell_type": "code",
      "metadata": {
        "id": "gnCZlF2znyGF"
      },
      "source": [
        "plt.figure(figsize=(8,5))\n",
        "sns.barplot(x='pickup_day_of_week',y='avg_trip_duration',data=avg_duration_day,order=['Monday','Tuesday','Wednesday','Thursday','Friday','Saturday', 'Sunday']).set_title(\"Avg Trip Duration vs Pickup Days of Week\")"
      ],
      "execution_count": null,
      "outputs": []
    },
    {
      "cell_type": "code",
      "metadata": {
        "id": "M18-tsg0650Q"
      },
      "source": [
        "def calculateBearing(lat1,lng1,lat2,lng2):\n",
        "    R = 6371 \n",
        "    lng_delta_rad = np.radians(lng2 - lng1)\n",
        "    lat1, lng1, lat2, lng2 = map(np.radians, (lat1, lng1, lat2, lng2))\n",
        "    y = np.sin(lng_delta_rad) * np.cos(lat2)\n",
        "    x = np.cos(lat1) * np.sin(lat2) - np.sin(lat1) * np.cos(lat2) * np.cos(lng_delta_rad)\n",
        "    return np.degrees(np.arctan2(y, x))"
      ],
      "execution_count": null,
      "outputs": []
    },
    {
      "cell_type": "code",
      "metadata": {
        "id": "X0UpEYwRSzoW"
      },
      "source": [
        "train['bearing']=train.apply(lambda row:calculateBearing(row['pickup_latitude_round3'],row['pickup_longitude_round3'],row['dropoff_latitude_round3'],row['dropoff_longitude_round3']),axis=1)"
      ],
      "execution_count": null,
      "outputs": []
    },
    {
      "cell_type": "code",
      "metadata": {
        "id": "41kVF1n687kq"
      },
      "source": [
        "coords = np.vstack((train[['pickup_latitude', 'pickup_longitude']].values,\n",
        "                    train[['dropoff_latitude', 'dropoff_longitude']].values))\n",
        "kmeans = KMeans(n_clusters=8, random_state=0).fit(coords)\n",
        "train.loc[:, 'pickup_neighbourhood'] = kmeans.predict(train[['pickup_latitude', 'pickup_longitude']])\n",
        "train.loc[:, 'dropoff_neighbourhood'] = kmeans.predict(train[['dropoff_latitude', 'dropoff_longitude']])\n",
        "city_long_border = (-74.03, -73.75)\n",
        "city_lat_border = (40.63, 40.85)\n",
        "fig, ax = plt.subplots(ncols=1, sharex=True, sharey=True)\n",
        "ax.scatter(train['pickup_longitude'], train['pickup_latitude'],\n",
        "              c=train['pickup_neighbourhood'], label='train', alpha=0.1)\n",
        "\n",
        "fig.suptitle('Pickup Neighbourhood')\n",
        "\n",
        "ax.set_ylabel('latitude')\n",
        "ax.set_xlabel('longitude')\n",
        "plt.ylim(city_lat_border)\n",
        "plt.xlim(city_long_border)"
      ],
      "execution_count": null,
      "outputs": []
    },
    {
      "cell_type": "code",
      "metadata": {
        "id": "jG8qjLWID2n_"
      },
      "source": [
        "train['avg_speed_kph']=train['trip_distance']/train['trip_duration_in_hour']\n",
        "plt.figure(figsize=(8,5))\n",
        "sns.kdeplot(train['avg_speed_kph'].values).set_title(\"Distribution of Average Speed (in kph)\")\n",
        "drop_cols=['avg_speed_kph','trip_duration_in_hour','dropoff_date','dropoff_day','dropoff_hour','dropoff_day_of_week','dropoff_datetime','pickup_latitude','pickup_longitude','dropoff_latitude','dropoff_longitude']\n",
        "training=train.drop(drop_cols,axis=1)\n"
      ],
      "execution_count": null,
      "outputs": []
    },
    {
      "cell_type": "code",
      "metadata": {
        "id": "MS_-kjlBGWbl"
      },
      "source": [
        "training['log_trip_duration']=training['trip_duration'].apply(lambda x:np.log(x))\n",
        "training.drop(['trip_duration'],axis=1,inplace=True)"
      ],
      "execution_count": null,
      "outputs": []
    },
    {
      "cell_type": "code",
      "metadata": {
        "id": "2bF4zN_LArr_"
      },
      "source": [
        "def encodeDays(day_of_week):\n",
        "    day_dict={'Sunday':0,'Monday':1,'Tuesday':2,'Wednesday':3,'Thursday':4,'Friday':5,'Saturday':6}\n",
        "    return day_dict[day_of_week]\n"
      ],
      "execution_count": null,
      "outputs": []
    },
    {
      "cell_type": "code",
      "metadata": {
        "id": "i-ta2dhio5N4"
      },
      "source": [
        "training['pickup_day_of_week']=training['pickup_day_of_week'].apply(lambda x:encodeDays(x))\n"
      ],
      "execution_count": null,
      "outputs": []
    },
    {
      "cell_type": "code",
      "metadata": {
        "id": "4Rma16lZtGoH"
      },
      "source": [
        "def LabelEncoding(train_df,test_df,max_levels=2):\n",
        "    for col in train_df:\n",
        "        if train_df[col].dtype == 'object':\n",
        "            if len(list(train_df[col].unique())) <= max_levels:\n",
        "                le = preprocessing.LabelEncoder()\n",
        "                le.fit(train_df[col])\n",
        "                train_df[col]=le.transform(train_df[col])\n",
        "                test_df[col]=le.transform(test_df[col])\n",
        "    return [train_df,test_df]\n",
        "                \n",
        "\n",
        "def readInputAndEncode(input_path,train_file,test_file,target_column):\n",
        "    training=pd.read_csv(input_path+train_file)\n",
        "    testing=pd.read_csv(input_path+test_file)\n",
        "   \n",
        "    training,testing=LabelEncoding(training,testing)\n",
        "    \n",
        "    #print(\"Training Data Shape after Encoding \",training.shape)\n",
        "    #print(\"Testing Data Shape after Encoding \",testing.shape)\n",
        "    #Check if all train columns are there in test data. If not add the column to test data and replace it with zero\n",
        "    train_cols=training.columns.tolist()\n",
        "    test_cols=testing.columns.tolist()\n",
        "    col_in_train_not_test=set(train_cols)-set(test_cols)\n",
        "    for col in col_in_train_not_test:\n",
        "        if col!=target_column:\n",
        "            testing[col]=0\n",
        "    col_in_test_not_train=set(test_cols)-set(train_cols)\n",
        "    for col in col_in_test_not_train:\n",
        "        training[col]=0\n",
        "    print(\"Training Data Shape after Processing \",training.shape)\n",
        "    print(\"Testing Data Shape after Processing \",testing.shape)\n",
        "    return [training,testing]"
      ],
      "execution_count": null,
      "outputs": []
    },
    {
      "cell_type": "code",
      "metadata": {
        "id": "7gzDSPCCpYAG"
      },
      "source": [
        "y_pred_train=model.predict(X_train)"
      ],
      "execution_count": null,
      "outputs": []
    },
    {
      "cell_type": "code",
      "metadata": {
        "id": "s-kB8DwVq2-l"
      },
      "source": [
        "y_pred_test=model.predict(X_test)"
      ],
      "execution_count": null,
      "outputs": []
    },
    {
      "cell_type": "code",
      "metadata": {
        "id": "L8vZYLdmwx2Q"
      },
      "source": [
        "X_test.shape"
      ],
      "execution_count": null,
      "outputs": []
    },
    {
      "cell_type": "code",
      "metadata": {
        "id": "v4i4kEldrBbn"
      },
      "source": [
        "r2_score(y_train,y_pred_train)"
      ],
      "execution_count": null,
      "outputs": []
    },
    {
      "cell_type": "code",
      "metadata": {
        "id": "S8e5Bc5drQpu"
      },
      "source": [
        "r2_score(y_test,y_pred_test)"
      ],
      "execution_count": null,
      "outputs": []
    },
    {
      "cell_type": "code",
      "metadata": {
        "id": "tc6JyGLGraSA"
      },
      "source": [
        "# from sklearn.tree import DecisionTreeRegressor \n",
        "\n",
        "# # create a regressor object\n",
        "# regressor = DecisionTreeRegressor(random_state = 0,max_depth=5, max_leaf_nodes=30) \n",
        "  \n",
        "# # fit the regressor with X and Y data\n",
        "# regressor.fit(X_train, y_train)"
      ],
      "execution_count": null,
      "outputs": []
    },
    {
      "cell_type": "code",
      "metadata": {
        "id": "OPRVnbwvuPUo"
      },
      "source": [
        "# y_pred_train2 = regressor.predict(X_train)\n",
        "# y_pred_test2=regressor.predict(X_test)\n",
        "  \n",
        "# print the predicted price\n"
      ],
      "execution_count": null,
      "outputs": []
    },
    {
      "cell_type": "code",
      "metadata": {
        "id": "AeT_BCLWvpDG"
      },
      "source": [
        "# r2_score(y_train,y_pred_train2)"
      ],
      "execution_count": null,
      "outputs": []
    },
    {
      "cell_type": "code",
      "metadata": {
        "id": "Gnp3v06EvqHU"
      },
      "source": [
        "# r2_score(y_test,y_pred_test2)"
      ],
      "execution_count": null,
      "outputs": []
    },
    {
      "cell_type": "code",
      "metadata": {
        "id": "QDe_wYIMhkmy"
      },
      "source": [
        "# mean_squared_error(y_test,y_pred_test2)"
      ],
      "execution_count": null,
      "outputs": []
    },
    {
      "cell_type": "code",
      "metadata": {
        "id": "yLpUoF2K02F4"
      },
      "source": [
        "# from sklearn.ensemble import RandomForestRegressor\n",
        "# from sklearn.metrics import mean_squared_error\n",
        "# rf = RandomForestRegressor(n_estimators = 100, random_state = 42)\n",
        "# rf.fit(X_train,y_train)\n"
      ],
      "execution_count": null,
      "outputs": []
    },
    {
      "cell_type": "code",
      "metadata": {
        "id": "dl6a5daB3dP7"
      },
      "source": [
        "# valid_pred_rf=rf.predict(X_test)\n",
        "# rmse=mean_squared_error(y_test,valid_pred_rf)\n",
        "# print(\"Root Mean Squared Error for Random Forest\",rmse)"
      ],
      "execution_count": null,
      "outputs": []
    },
    {
      "cell_type": "code",
      "metadata": {
        "id": "UWXvXmOD33TZ"
      },
      "source": [
        "test_pred=rf.predict(testing)"
      ],
      "execution_count": null,
      "outputs": []
    },
    {
      "cell_type": "code",
      "metadata": {
        "id": "tghlrVszkazO"
      },
      "source": [
        "y_train"
      ],
      "execution_count": null,
      "outputs": []
    },
    {
      "cell_type": "code",
      "metadata": {
        "id": "Hju49wOKkcZQ"
      },
      "source": [
        "from sklearn.linear_model import SGDRegressor\n",
        "from sklearn.metrics import mean_absolute_error\n",
        "\n",
        "sgd_model = SGDRegressor(max_iter=1000, tol=1e-3)"
      ],
      "execution_count": null,
      "outputs": []
    },
    {
      "cell_type": "code",
      "metadata": {
        "id": "Z8FdCWrSnElb"
      },
      "source": [
        "last_test_mae = -1\n",
        "\n",
        "pointer = 0\n",
        "for i in range(10):\n",
        "    \n",
        "    X_train_small = X_train[pointer*16:(pointer+1)*16].copy()\n",
        "    y_train_small = y_train[pointer*16:(pointer+1)*16].copy()\n",
        "    \n",
        "    X_train_small = distance(X_train_small)\n",
        "    \n",
        "    X_train_small = hour_of_the_day(X_train_small)\n",
        "    \n",
        "    X_train_small = X_train_small[['hour_day', 'passenger_count', 'distance']]\n",
        "    \n",
        "    sgd_model.partial_fit(X_train_small, y_train_small.ravel())\n",
        "        \n",
        "    mae = mean_absolute_error(y_train_small, sgd_model.predict(X_train_small))\n",
        "\n",
        "    # Test\n",
        "    \n",
        "    X_test_small = X_test.copy()\n",
        "    y_test_small = y_test.copy()\n",
        "    X_test_small = distance(X_test_small)\n",
        "    X_test_small = hour_of_the_day(X_test_small)\n",
        "    X_test_small = X_test_small[['hour_day', 'passenger_count', 'distance']]\n",
        "    \n",
        "    test_mae = mean_absolute_error(y_test_small, sgd_model.predict(X_test_small))\n",
        "\n",
        "    print(f\"iteration: {i}, mae: {mae}, test_mae: {test_mae}\")\n",
        "    \n",
        "    if (pointer+1)*100 > len(X_train):\n",
        "        pointer = 0\n",
        "    \n",
        "    if last_test_mae == test_mae:\n",
        "        break\n",
        "    else:\n",
        "        last_test_mae = test_mae"
      ],
      "execution_count": null,
      "outputs": []
    },
    {
      "cell_type": "code",
      "metadata": {
        "id": "fxmVwOJ_5tkV"
      },
      "source": [
        ""
      ],
      "execution_count": null,
      "outputs": []
    },
    {
      "cell_type": "code",
      "metadata": {
        "id": "0-k9JnSq-Sqf"
      },
      "source": [
        ""
      ],
      "execution_count": null,
      "outputs": []
    }
  ]
}